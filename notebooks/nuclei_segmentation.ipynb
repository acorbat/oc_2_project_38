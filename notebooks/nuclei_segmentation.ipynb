{
 "cells": [
  {
   "cell_type": "markdown",
   "metadata": {},
   "source": [
    "# Nuclei Segmentation\n",
    "\n",
    "Let's begin with nuclei segmentation.\n",
    "We can either segment the DAPI channel and then filter out the healthy nuclei, segment only the healthy nuclei or go for the ISL1 channel that has the label for the nuclei of interest.\n",
    "\n",
    "Let's select an image and then crop out a small piece of it to make testing easier."
   ]
  },
  {
   "cell_type": "code",
   "execution_count": 11,
   "metadata": {},
   "outputs": [],
   "source": [
    "from pathlib import Path\n",
    "\n",
    "import matplotlib.pyplot as plt\n",
    "import numpy as np\n",
    "from czifile import CziFile\n",
    "from napari import Viewer\n",
    "from scipy.ndimage import distance_transform_edt"
   ]
  },
  {
   "cell_type": "code",
   "execution_count": 2,
   "metadata": {},
   "outputs": [],
   "source": [
    "DATA_DIR = Path(\"../data/NS#1_Healhty-DAPI, WGA, ISL1, G3BP.czi\")\n",
    "image_handle = CziFile(DATA_DIR)\n",
    "img = np.squeeze(image_handle.asarray())[3, :, 1000:1500, 1000:1500]"
   ]
  },
  {
   "cell_type": "code",
   "execution_count": 5,
   "metadata": {},
   "outputs": [],
   "source": [
    "scale = {\n",
    "    values_dict[\"Id\"]: values_dict[\"Value\"] * 10**6\n",
    "    for values_dict in image_handle.metadata(raw=False)[\"ImageDocument\"][\"Metadata\"][\n",
    "        \"Scaling\"\n",
    "    ][\"Items\"][\"Distance\"]\n",
    "}\n",
    "spacing = (scale[\"Z\"], scale[\"Y\"], scale[\"X\"])"
   ]
  },
  {
   "cell_type": "markdown",
   "metadata": {},
   "source": [
    "## Cellpose\n",
    "\n",
    "Let's begin by trying out cellpose."
   ]
  },
  {
   "cell_type": "code",
   "execution_count": null,
   "metadata": {},
   "outputs": [],
   "source": [
    "from cellpose import models  # noqa\n",
    "from cellpose.io import logger_setup  # noqa\n",
    "\n",
    "logger_setup()"
   ]
  },
  {
   "cell_type": "code",
   "execution_count": null,
   "metadata": {},
   "outputs": [],
   "source": [
    "model = models.Cellpose(model_type=\"nuclei\")"
   ]
  },
  {
   "cell_type": "markdown",
   "metadata": {},
   "source": [
    "After a couple attempts with several algorithms, I thought there might be issues with all the saturated nuclei.\n",
    "To circunvent this, I made a mask for those pixels, calculated the distance transform and added this to the original image in order to have some values here."
   ]
  },
  {
   "cell_type": "code",
   "execution_count": null,
   "metadata": {},
   "outputs": [],
   "source": [
    "saturated_mask = img[3] == 255\n",
    "distance_saturated = np.asarray(\n",
    "    [distance_transform_edt(this_plane) for this_plane in saturated_mask]\n",
    ")"
   ]
  },
  {
   "cell_type": "code",
   "execution_count": null,
   "metadata": {},
   "outputs": [],
   "source": [
    "img = img.astype(float)\n",
    "img[3] = img[3] + 10 * distance_saturated\n",
    "img[3] = img[3] / (np.max(img[3]) + 10)"
   ]
  },
  {
   "cell_type": "code",
   "execution_count": null,
   "metadata": {},
   "outputs": [],
   "source": [
    "masks, flows, styles, diams = model.eval(\n",
    "    [img],\n",
    "    batch_size=8,\n",
    "    channel_axis=0,\n",
    "    diameter=100,\n",
    "    z_axis=1,\n",
    "    do_3D=False,\n",
    "    channels=[3, 0],\n",
    "    stitch_threshold=0.5,\n",
    "    normalize=False,\n",
    ")"
   ]
  },
  {
   "cell_type": "code",
   "execution_count": null,
   "metadata": {},
   "outputs": [],
   "source": [
    "z = 10\n",
    "\n",
    "plt.imshow(img[3][z])\n",
    "plt.colorbar()\n",
    "plt.show()\n",
    "plt.imshow(masks[0][z])"
   ]
  },
  {
   "cell_type": "markdown",
   "metadata": {},
   "source": [
    "I still had no success here."
   ]
  },
  {
   "cell_type": "markdown",
   "metadata": {},
   "source": [
    "## StarDist\n",
    "\n",
    "Maybe stardist might work.\n",
    "Not tested yet."
   ]
  },
  {
   "cell_type": "markdown",
   "metadata": {},
   "source": [
    "## Clesperanto Voronoi Otsu\n",
    "\n",
    "Maybe Clesperanto's Voronoi and Otsu labelling works well here."
   ]
  },
  {
   "cell_type": "code",
   "execution_count": null,
   "metadata": {},
   "outputs": [],
   "source": [
    "import pyclesperanto_prototype as cle  # noqa\n",
    "\n",
    "cle.available_device_names()"
   ]
  },
  {
   "cell_type": "code",
   "execution_count": null,
   "metadata": {},
   "outputs": [],
   "source": [
    "input_gpu = cle.push(img[3])\n",
    "input_gpu"
   ]
  },
  {
   "cell_type": "markdown",
   "metadata": {},
   "source": [
    "I was unable to make clesperanto work on the laptop."
   ]
  },
  {
   "cell_type": "markdown",
   "metadata": {},
   "source": [
    "## Thresholding\n",
    "\n",
    "Let's go for typical thresholding techniques as nuclei might be separated enough to not need watershed or maybe a simple watershed."
   ]
  },
  {
   "cell_type": "code",
   "execution_count": 18,
   "metadata": {},
   "outputs": [],
   "source": [
    "from skimage.feature import peak_local_max  # noqa\n",
    "from skimage.filters import median, scharr, threshold_otsu  # noqa\n",
    "from skimage.morphology import ball, binary_erosion, dilation, disk  # noqa\n",
    "from skimage.segmentation import watershed  # noqa"
   ]
  },
  {
   "cell_type": "markdown",
   "metadata": {},
   "source": [
    "Let's begin with some median filtering to enhance a bit the edges.\n",
    "I'm using my own footprint.\n",
    "\n",
    "And then use Otsu thresolding."
   ]
  },
  {
   "cell_type": "code",
   "execution_count": 55,
   "metadata": {},
   "outputs": [],
   "source": [
    "pixel_resolution = 0.5 / scale[\"X\"]\n",
    "\n",
    "footprint = np.stack(\n",
    "    [\n",
    "        np.zeros_like(disk(pixel_resolution)),\n",
    "        disk(pixel_resolution),\n",
    "        np.zeros_like(disk(pixel_resolution)),\n",
    "    ]\n",
    ")\n",
    "midpoint = footprint.shape[1] // 2\n",
    "footprint[0, midpoint, midpoint] = 1\n",
    "footprint[2, midpoint, midpoint] = 1\n",
    "\n",
    "filtered_image = median(img, footprint=footprint)\n",
    "threshold = threshold_otsu(filtered_image)\n",
    "nuclei = filtered_image > threshold"
   ]
  },
  {
   "cell_type": "code",
   "execution_count": 8,
   "metadata": {},
   "outputs": [
    {
     "data": {
      "text/plain": [
       "<Labels layer 'nuclei' at 0x7c8d8b380ce0>"
      ]
     },
     "execution_count": 8,
     "metadata": {},
     "output_type": "execute_result"
    }
   ],
   "source": [
    "viewer = Viewer()\n",
    "viewer.add_image(img, scale=spacing)\n",
    "viewer.add_labels(nuclei, scale=spacing)"
   ]
  },
  {
   "cell_type": "markdown",
   "metadata": {},
   "source": [
    "Let's apply watershed to get a better separation between nuclei.\n",
    "We will need the seeds."
   ]
  },
  {
   "cell_type": "code",
   "execution_count": 64,
   "metadata": {},
   "outputs": [],
   "source": [
    "footprint = np.stack([np.zeros_like(disk(1)), disk(1), np.zeros_like(disk(1))])\n",
    "\n",
    "inter = binary_erosion(nuclei, footprint=footprint)\n",
    "\n",
    "transformed = distance_transform_edt(inter, sampling=spacing)\n",
    "\n",
    "distance_between_nuclei = 1.7  # in um\n",
    "pixel_min_distance = np.floor(distance_between_nuclei / scale[\"X\"]).astype(int)\n",
    "\n",
    "maxima = peak_local_max(transformed, min_distance=pixel_min_distance)"
   ]
  },
  {
   "cell_type": "code",
   "execution_count": 65,
   "metadata": {},
   "outputs": [
    {
     "name": "stdout",
     "output_type": "stream",
     "text": [
      "13 77\n"
     ]
    }
   ],
   "source": [
    "print(pixel_min_distance, len(maxima))"
   ]
  },
  {
   "cell_type": "markdown",
   "metadata": {},
   "source": [
    "We need an image for the edges of the nuclei to limit the watershed."
   ]
  },
  {
   "cell_type": "code",
   "execution_count": 58,
   "metadata": {},
   "outputs": [],
   "source": [
    "edges = scharr(filtered_image)"
   ]
  },
  {
   "cell_type": "code",
   "execution_count": 59,
   "metadata": {},
   "outputs": [
    {
     "data": {
      "text/plain": [
       "<Points layer 'points' at 0x7c8cf3b9cfb0>"
      ]
     },
     "execution_count": 59,
     "metadata": {},
     "output_type": "execute_result"
    }
   ],
   "source": [
    "viewer = Viewer()\n",
    "viewer.add_image(transformed, scale=spacing)\n",
    "viewer.add_image(edges, scale=spacing)\n",
    "viewer.add_points(\n",
    "    maxima,\n",
    "    name=\"points\",\n",
    "    scale=spacing,\n",
    "    size=40,\n",
    "    n_dimensional=True,  # points have 3D \"extent\"\n",
    "    face_color=\"red\",\n",
    ")"
   ]
  },
  {
   "cell_type": "code",
   "execution_count": 68,
   "metadata": {},
   "outputs": [],
   "source": [
    "markers = np.zeros(img.shape, dtype=np.uint32)\n",
    "marker_indices = tuple(np.round(maxima).astype(int).T)\n",
    "markers[marker_indices] = np.arange(len(maxima)) + 1\n",
    "markers = dilation(markers, ball(5))\n",
    "\n",
    "segmented = watershed(\n",
    "    -transformed,\n",
    "    markers,\n",
    "    mask=nuclei,\n",
    ")"
   ]
  },
  {
   "cell_type": "code",
   "execution_count": 69,
   "metadata": {},
   "outputs": [
    {
     "data": {
      "text/plain": [
       "<Labels layer 'segmented' at 0x7c8cb9a0bef0>"
      ]
     },
     "execution_count": 69,
     "metadata": {},
     "output_type": "execute_result"
    }
   ],
   "source": [
    "viewer = Viewer()\n",
    "viewer.add_image(img, scale=spacing)\n",
    "viewer.add_labels(segmented, scale=spacing)"
   ]
  },
  {
   "cell_type": "markdown",
   "metadata": {},
   "source": [
    "It's not the best and should be improved, but it's not that bad."
   ]
  }
 ],
 "metadata": {
  "kernelspec": {
   "display_name": "Python 3",
   "language": "python",
   "name": "python3"
  },
  "language_info": {
   "codemirror_mode": {
    "name": "ipython",
    "version": 3
   },
   "file_extension": ".py",
   "mimetype": "text/x-python",
   "name": "python",
   "nbconvert_exporter": "python",
   "pygments_lexer": "ipython3",
   "version": "3.12.4"
  }
 },
 "nbformat": 4,
 "nbformat_minor": 2
}
