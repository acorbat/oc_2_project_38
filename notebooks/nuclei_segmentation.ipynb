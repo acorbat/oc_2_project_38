{
 "cells": [
  {
   "cell_type": "markdown",
   "metadata": {},
   "source": [
    "# Nuclei Segmentation\n",
    "\n",
    "Let's begin with nuclei segmentation.\n",
    "We can either segment the DAPI channel and then filter out the healthy nuclei, segment only the healthy nuclei or go for the ISL1 channel that has the label for the nuclei of interest.\n",
    "\n",
    "Let's select an image and then crop out a small piece of it to make testing easier."
   ]
  },
  {
   "cell_type": "code",
   "execution_count": 1,
   "metadata": {},
   "outputs": [],
   "source": [
    "from pathlib import Path\n",
    "\n",
    "import numpy as np\n",
    "from czifile import CziFile\n",
    "from napari import Viewer\n",
    "from skimage.morphology import ball, erosion, remove_small_objects"
   ]
  },
  {
   "cell_type": "code",
   "execution_count": 2,
   "metadata": {},
   "outputs": [],
   "source": [
    "DATA_DIR = Path(\n",
    "    \"../data/NS_4_Healthy_5uM_MI132_D19.czi\"\n",
    ")\n",
    "image_handle = CziFile(DATA_DIR)\n",
    "img = np.squeeze(image_handle.asarray())[2, :, 1250:2000, 1250:2000]"
   ]
  },
  {
   "cell_type": "code",
   "execution_count": 3,
   "metadata": {},
   "outputs": [
    {
     "data": {
      "text/plain": [
       "(0.75, 0.18130982905982898, 0.18130982905982898)"
      ]
     },
     "execution_count": 3,
     "metadata": {},
     "output_type": "execute_result"
    }
   ],
   "source": [
    "scale = {\n",
    "    values_dict[\"Id\"]: values_dict[\"Value\"] * 10**6\n",
    "    for values_dict in image_handle.metadata(raw=False)[\"ImageDocument\"][\"Metadata\"][\n",
    "        \"Scaling\"\n",
    "    ][\"Items\"][\"Distance\"]\n",
    "}\n",
    "spacing = (scale[\"Z\"], scale[\"Y\"], scale[\"X\"])\n",
    "spacing"
   ]
  },
  {
   "cell_type": "markdown",
   "metadata": {},
   "source": [
    "## Preprocessing image\n",
    "\n",
    "We will reduce noise in the image by applying a gaussian filter to it."
   ]
  },
  {
   "cell_type": "code",
   "execution_count": 4,
   "metadata": {},
   "outputs": [],
   "source": [
    "from skimage.filters import gaussian # noqa"
   ]
  },
  {
   "cell_type": "code",
   "execution_count": 5,
   "metadata": {},
   "outputs": [],
   "source": [
    "smoothed_img = gaussian(img, sigma=(1/spacing[0], 0.5/spacing[1], 0.5/spacing[2]))"
   ]
  },
  {
   "cell_type": "code",
   "execution_count": 6,
   "metadata": {},
   "outputs": [
    {
     "data": {
      "text/plain": [
       "<Image layer 'smoothed_img' at 0x23783015fd0>"
      ]
     },
     "execution_count": 6,
     "metadata": {},
     "output_type": "execute_result"
    }
   ],
   "source": [
    "viewer = Viewer()\n",
    "viewer.add_image(img, scale=spacing, visible=False)\n",
    "viewer.add_image(smoothed_img, scale=spacing, visible=True)"
   ]
  },
  {
   "cell_type": "markdown",
   "metadata": {},
   "source": [
    "## Cellpose\n",
    "\n",
    "Let's begin by trying out cellpose."
   ]
  },
  {
   "cell_type": "code",
   "execution_count": 7,
   "metadata": {},
   "outputs": [
    {
     "name": "stdout",
     "output_type": "stream",
     "text": [
      "2025-02-26 14:34:16,885 [INFO] WRITING LOG OUTPUT TO C:\\Users\\aguco599\\.cellpose\\run.log\n",
      "2025-02-26 14:34:16,886 [INFO] \n",
      "cellpose version: \t3.0.11 \n",
      "platform:       \twin32 \n",
      "python version: \t3.12.7 \n",
      "torch version:  \t2.2.2\n"
     ]
    },
    {
     "data": {
      "text/plain": [
       "(<Logger cellpose.io (INFO)>,\n",
       " WindowsPath('C:/Users/aguco599/.cellpose/run.log'))"
      ]
     },
     "execution_count": 7,
     "metadata": {},
     "output_type": "execute_result"
    }
   ],
   "source": [
    "from cellpose import models  # noqa\n",
    "from cellpose.io import logger_setup  # noqa\n",
    "\n",
    "logger_setup()"
   ]
  },
  {
   "cell_type": "code",
   "execution_count": 8,
   "metadata": {},
   "outputs": [
    {
     "name": "stdout",
     "output_type": "stream",
     "text": [
      "2025-02-26 14:34:16,894 [INFO] >>>> using CPU\n",
      "2025-02-26 14:34:16,895 [INFO] >>>> using CPU\n",
      "2025-02-26 14:34:16,896 [INFO] >> cyto3 << model set to be used\n",
      "2025-02-26 14:34:16,930 [INFO] >>>> loading model C:\\Users\\aguco599\\.cellpose\\models\\cyto3\n",
      "2025-02-26 14:34:16,984 [INFO] >>>> model diam_mean =  30.000 (ROIs rescaled to this size during training)\n"
     ]
    }
   ],
   "source": [
    "model = models.Cellpose(model_type=\"cyto3\")"
   ]
  },
  {
   "cell_type": "markdown",
   "metadata": {},
   "source": [
    "After a couple attempts with several algorithms, I thought there might be issues with all the saturated nuclei.\n",
    "To circunvent this, I made a mask for those pixels, calculated the distance transform and added this to the original image in order to have some values here."
   ]
  },
  {
   "cell_type": "code",
   "execution_count": 9,
   "metadata": {},
   "outputs": [
    {
     "name": "stdout",
     "output_type": "stream",
     "text": [
      "4.136565589902539\n"
     ]
    }
   ],
   "source": [
    "anisotropy = scale[\"Z\"] / scale[\"X\"]\n",
    "print(anisotropy)"
   ]
  },
  {
   "cell_type": "code",
   "execution_count": 10,
   "metadata": {},
   "outputs": [
    {
     "name": "stdout",
     "output_type": "stream",
     "text": [
      "55.15420786536719\n"
     ]
    }
   ],
   "source": [
    "diameter = 10 / scale[\"X\"]\n",
    "print(diameter)"
   ]
  },
  {
   "cell_type": "code",
   "execution_count": 11,
   "metadata": {},
   "outputs": [
    {
     "name": "stdout",
     "output_type": "stream",
     "text": [
      "2025-02-26 14:34:17,022 [INFO] channels set to [0, 0]\n",
      "2025-02-26 14:34:17,023 [INFO] ~~~ FINDING MASKS ~~~\n",
      "2025-02-26 14:34:17,024 [INFO] multi-stack tiff read in as having 74 planes 1 channels\n",
      "2025-02-26 14:34:18,337 [INFO] running YX: 74 planes of size (750, 750)\n",
      "2025-02-26 14:34:18,374 [INFO] 0%|          | 0/19 [00:00<?, ?it/s]\n",
      "2025-02-26 14:34:21,962 [INFO] 5%|5         | 1/19 [00:03<01:04,  3.59s/it]\n",
      "2025-02-26 14:34:25,384 [INFO] 11%|#         | 2/19 [00:07<00:59,  3.49s/it]\n",
      "2025-02-26 14:34:28,761 [INFO] 16%|#5        | 3/19 [00:10<00:55,  3.44s/it]\n",
      "2025-02-26 14:34:32,205 [INFO] 21%|##1       | 4/19 [00:13<00:51,  3.44s/it]\n",
      "2025-02-26 14:34:35,636 [INFO] 26%|##6       | 5/19 [00:17<00:48,  3.44s/it]\n",
      "2025-02-26 14:34:39,168 [INFO] 32%|###1      | 6/19 [00:20<00:45,  3.47s/it]\n",
      "2025-02-26 14:34:42,824 [INFO] 37%|###6      | 7/19 [00:24<00:42,  3.53s/it]\n",
      "2025-02-26 14:34:46,388 [INFO] 42%|####2     | 8/19 [00:28<00:38,  3.54s/it]\n",
      "2025-02-26 14:34:50,008 [INFO] 47%|####7     | 9/19 [00:31<00:35,  3.57s/it]\n",
      "2025-02-26 14:34:53,750 [INFO] 53%|#####2    | 10/19 [00:35<00:32,  3.62s/it]\n",
      "2025-02-26 14:34:57,310 [INFO] 58%|#####7    | 11/19 [00:38<00:28,  3.60s/it]\n",
      "2025-02-26 14:35:00,973 [INFO] 63%|######3   | 12/19 [00:42<00:25,  3.62s/it]\n",
      "2025-02-26 14:35:04,699 [INFO] 68%|######8   | 13/19 [00:46<00:21,  3.65s/it]\n",
      "2025-02-26 14:35:08,529 [INFO] 74%|#######3  | 14/19 [00:50<00:18,  3.71s/it]\n",
      "2025-02-26 14:35:12,233 [INFO] 79%|#######8  | 15/19 [00:53<00:14,  3.71s/it]\n",
      "2025-02-26 14:35:15,912 [INFO] 84%|########4 | 16/19 [00:57<00:11,  3.70s/it]\n",
      "2025-02-26 14:35:19,656 [INFO] 89%|########9 | 17/19 [01:01<00:07,  3.71s/it]\n",
      "2025-02-26 14:35:23,394 [INFO] 95%|#########4| 18/19 [01:05<00:03,  3.72s/it]\n",
      "2025-02-26 14:35:27,357 [INFO] 100%|##########| 19/19 [01:08<00:00,  3.79s/it]\n",
      "2025-02-26 14:35:27,358 [INFO] 100%|##########| 19/19 [01:08<00:00,  3.63s/it]\n",
      "2025-02-26 14:35:28,070 [INFO] running ZY: 750 planes of size (74, 750)\n",
      "2025-02-26 14:35:28,578 [INFO] 0%|          | 0/69 [00:00<?, ?it/s]\n",
      "2025-02-26 14:35:31,480 [INFO] 1%|1         | 1/69 [00:02<03:17,  2.90s/it]\n",
      "2025-02-26 14:35:34,101 [INFO] 3%|2         | 2/69 [00:05<03:03,  2.74s/it]\n",
      "2025-02-26 14:35:36,690 [INFO] 4%|4         | 3/69 [00:08<02:56,  2.67s/it]\n",
      "2025-02-26 14:35:39,394 [INFO] 6%|5         | 4/69 [00:10<02:54,  2.68s/it]\n",
      "2025-02-26 14:35:41,968 [INFO] 7%|7         | 5/69 [00:13<02:49,  2.64s/it]\n",
      "2025-02-26 14:35:44,680 [INFO] 9%|8         | 6/69 [00:16<02:48,  2.67s/it]\n",
      "2025-02-26 14:35:47,240 [INFO] 10%|#         | 7/69 [00:18<02:43,  2.63s/it]\n",
      "2025-02-26 14:35:49,787 [INFO] 12%|#1        | 8/69 [00:21<02:38,  2.60s/it]\n",
      "2025-02-26 14:35:52,415 [INFO] 13%|#3        | 9/69 [00:23<02:36,  2.61s/it]\n",
      "2025-02-26 14:35:54,960 [INFO] 14%|#4        | 10/69 [00:26<02:32,  2.59s/it]\n",
      "2025-02-26 14:35:57,514 [INFO] 16%|#5        | 11/69 [00:28<02:29,  2.58s/it]\n",
      "2025-02-26 14:36:00,206 [INFO] 17%|#7        | 12/69 [00:31<02:28,  2.61s/it]\n",
      "2025-02-26 14:36:02,813 [INFO] 19%|#8        | 13/69 [00:34<02:26,  2.61s/it]\n",
      "2025-02-26 14:36:05,359 [INFO] 20%|##        | 14/69 [00:36<02:22,  2.59s/it]\n",
      "2025-02-26 14:36:07,854 [INFO] 22%|##1       | 15/69 [00:39<02:18,  2.56s/it]\n",
      "2025-02-26 14:36:10,406 [INFO] 23%|##3       | 16/69 [00:41<02:15,  2.56s/it]\n",
      "2025-02-26 14:36:13,036 [INFO] 25%|##4       | 17/69 [00:44<02:14,  2.58s/it]\n",
      "2025-02-26 14:36:15,607 [INFO] 26%|##6       | 18/69 [00:47<02:11,  2.58s/it]\n",
      "2025-02-26 14:36:18,134 [INFO] 28%|##7       | 19/69 [00:49<02:08,  2.56s/it]\n",
      "2025-02-26 14:36:20,642 [INFO] 29%|##8       | 20/69 [00:52<02:04,  2.55s/it]\n",
      "2025-02-26 14:36:23,287 [INFO] 30%|###       | 21/69 [00:54<02:03,  2.58s/it]\n",
      "2025-02-26 14:36:25,885 [INFO] 32%|###1      | 22/69 [00:57<02:01,  2.58s/it]\n",
      "2025-02-26 14:36:28,481 [INFO] 33%|###3      | 23/69 [00:59<01:58,  2.59s/it]\n",
      "2025-02-26 14:36:31,097 [INFO] 35%|###4      | 24/69 [01:02<01:56,  2.60s/it]\n",
      "2025-02-26 14:36:33,734 [INFO] 36%|###6      | 25/69 [01:05<01:54,  2.61s/it]\n",
      "2025-02-26 14:36:36,348 [INFO] 38%|###7      | 26/69 [01:07<01:52,  2.61s/it]\n",
      "2025-02-26 14:36:38,967 [INFO] 39%|###9      | 27/69 [01:10<01:49,  2.61s/it]\n",
      "2025-02-26 14:36:41,535 [INFO] 41%|####      | 28/69 [01:12<01:46,  2.60s/it]\n",
      "2025-02-26 14:36:44,207 [INFO] 42%|####2     | 29/69 [01:15<01:44,  2.62s/it]\n",
      "2025-02-26 14:36:46,838 [INFO] 43%|####3     | 30/69 [01:18<01:42,  2.62s/it]\n",
      "2025-02-26 14:36:49,311 [INFO] 45%|####4     | 31/69 [01:20<01:37,  2.58s/it]\n",
      "2025-02-26 14:36:51,693 [INFO] 46%|####6     | 32/69 [01:23<01:33,  2.52s/it]\n",
      "2025-02-26 14:36:54,098 [INFO] 48%|####7     | 33/69 [01:25<01:29,  2.49s/it]\n",
      "2025-02-26 14:36:56,602 [INFO] 49%|####9     | 34/69 [01:28<01:27,  2.49s/it]\n",
      "2025-02-26 14:36:59,130 [INFO] 51%|#####     | 35/69 [01:30<01:25,  2.50s/it]\n",
      "2025-02-26 14:37:01,623 [INFO] 52%|#####2    | 36/69 [01:33<01:22,  2.50s/it]\n",
      "2025-02-26 14:37:04,023 [INFO] 54%|#####3    | 37/69 [01:35<01:19,  2.47s/it]\n",
      "2025-02-26 14:37:06,398 [INFO] 55%|#####5    | 38/69 [01:37<01:15,  2.44s/it]\n",
      "2025-02-26 14:37:08,743 [INFO] 57%|#####6    | 39/69 [01:40<01:12,  2.41s/it]\n",
      "2025-02-26 14:37:11,042 [INFO] 58%|#####7    | 40/69 [01:42<01:08,  2.38s/it]\n",
      "2025-02-26 14:37:13,405 [INFO] 59%|#####9    | 41/69 [01:44<01:06,  2.37s/it]\n",
      "2025-02-26 14:37:15,794 [INFO] 61%|######    | 42/69 [01:47<01:04,  2.38s/it]\n",
      "2025-02-26 14:37:18,200 [INFO] 62%|######2   | 43/69 [01:49<01:02,  2.39s/it]\n",
      "2025-02-26 14:37:20,651 [INFO] 64%|######3   | 44/69 [01:52<01:00,  2.41s/it]\n",
      "2025-02-26 14:37:23,016 [INFO] 65%|######5   | 45/69 [01:54<00:57,  2.39s/it]\n",
      "2025-02-26 14:37:25,359 [INFO] 67%|######6   | 46/69 [01:56<00:54,  2.38s/it]\n",
      "2025-02-26 14:37:27,803 [INFO] 68%|######8   | 47/69 [01:59<00:52,  2.40s/it]\n",
      "2025-02-26 14:37:30,234 [INFO] 70%|######9   | 48/69 [02:01<00:50,  2.41s/it]\n",
      "2025-02-26 14:37:32,649 [INFO] 71%|#######1  | 49/69 [02:04<00:48,  2.41s/it]\n",
      "2025-02-26 14:37:35,074 [INFO] 72%|#######2  | 50/69 [02:06<00:45,  2.41s/it]\n",
      "2025-02-26 14:37:37,375 [INFO] 74%|#######3  | 51/69 [02:08<00:42,  2.38s/it]\n",
      "2025-02-26 14:37:39,695 [INFO] 75%|#######5  | 52/69 [02:11<00:40,  2.36s/it]\n",
      "2025-02-26 14:37:42,016 [INFO] 77%|#######6  | 53/69 [02:13<00:37,  2.35s/it]\n",
      "2025-02-26 14:37:44,297 [INFO] 78%|#######8  | 54/69 [02:15<00:34,  2.33s/it]\n",
      "2025-02-26 14:37:46,666 [INFO] 80%|#######9  | 55/69 [02:18<00:32,  2.34s/it]\n",
      "2025-02-26 14:37:49,051 [INFO] 81%|########1 | 56/69 [02:20<00:30,  2.35s/it]\n",
      "2025-02-26 14:37:51,416 [INFO] 83%|########2 | 57/69 [02:22<00:28,  2.36s/it]\n",
      "2025-02-26 14:37:54,016 [INFO] 84%|########4 | 58/69 [02:25<00:26,  2.43s/it]\n",
      "2025-02-26 14:37:56,964 [INFO] 86%|########5 | 59/69 [02:28<00:25,  2.59s/it]\n",
      "2025-02-26 14:37:59,987 [INFO] 87%|########6 | 60/69 [02:31<00:24,  2.72s/it]\n",
      "2025-02-26 14:38:02,699 [INFO] 88%|########8 | 61/69 [02:34<00:21,  2.72s/it]\n",
      "2025-02-26 14:38:05,223 [INFO] 90%|########9 | 62/69 [02:36<00:18,  2.66s/it]\n",
      "2025-02-26 14:38:07,654 [INFO] 91%|#########1| 63/69 [02:39<00:15,  2.59s/it]\n",
      "2025-02-26 14:38:10,119 [INFO] 93%|#########2| 64/69 [02:41<00:12,  2.55s/it]\n",
      "2025-02-26 14:38:12,572 [INFO] 94%|#########4| 65/69 [02:43<00:10,  2.52s/it]\n",
      "2025-02-26 14:38:15,005 [INFO] 96%|#########5| 66/69 [02:46<00:07,  2.50s/it]\n",
      "2025-02-26 14:38:17,367 [INFO] 97%|#########7| 67/69 [02:48<00:04,  2.46s/it]\n",
      "2025-02-26 14:38:19,735 [INFO] 99%|#########8| 68/69 [02:51<00:02,  2.43s/it]\n",
      "2025-02-26 14:38:22,177 [INFO] 100%|##########| 69/69 [02:53<00:00,  2.43s/it]\n",
      "2025-02-26 14:38:22,178 [INFO] 100%|##########| 69/69 [02:53<00:00,  2.52s/it]\n",
      "2025-02-26 14:38:23,567 [INFO] running ZX: 750 planes of size (74, 750)\n",
      "2025-02-26 14:38:23,719 [INFO] 0%|          | 0/69 [00:00<?, ?it/s]\n",
      "2025-02-26 14:38:26,363 [INFO] 1%|1         | 1/69 [00:02<02:59,  2.64s/it]\n",
      "2025-02-26 14:38:28,933 [INFO] 3%|2         | 2/69 [00:05<02:54,  2.60s/it]\n",
      "2025-02-26 14:38:31,528 [INFO] 4%|4         | 3/69 [00:07<02:51,  2.60s/it]\n",
      "2025-02-26 14:38:34,121 [INFO] 6%|5         | 4/69 [00:10<02:48,  2.60s/it]\n",
      "2025-02-26 14:38:36,623 [INFO] 7%|7         | 5/69 [00:12<02:43,  2.56s/it]\n",
      "2025-02-26 14:38:39,060 [INFO] 9%|8         | 6/69 [00:15<02:38,  2.52s/it]\n",
      "2025-02-26 14:38:41,534 [INFO] 10%|#         | 7/69 [00:17<02:35,  2.50s/it]\n",
      "2025-02-26 14:38:43,959 [INFO] 12%|#1        | 8/69 [00:20<02:31,  2.48s/it]\n",
      "2025-02-26 14:38:46,348 [INFO] 13%|#3        | 9/69 [00:22<02:27,  2.45s/it]\n",
      "2025-02-26 14:38:48,809 [INFO] 14%|#4        | 10/69 [00:25<02:24,  2.45s/it]\n",
      "2025-02-26 14:38:51,277 [INFO] 16%|#5        | 11/69 [00:27<02:22,  2.46s/it]\n",
      "2025-02-26 14:38:53,773 [INFO] 17%|#7        | 12/69 [00:30<02:20,  2.47s/it]\n",
      "2025-02-26 14:38:56,311 [INFO] 19%|#8        | 13/69 [00:32<02:19,  2.49s/it]\n",
      "2025-02-26 14:38:58,675 [INFO] 20%|##        | 14/69 [00:34<02:14,  2.45s/it]\n",
      "2025-02-26 14:39:01,083 [INFO] 22%|##1       | 15/69 [00:37<02:11,  2.44s/it]\n",
      "2025-02-26 14:39:03,436 [INFO] 23%|##3       | 16/69 [00:39<02:07,  2.41s/it]\n",
      "2025-02-26 14:39:05,812 [INFO] 25%|##4       | 17/69 [00:42<02:04,  2.40s/it]\n",
      "2025-02-26 14:39:08,173 [INFO] 26%|##6       | 18/69 [00:44<02:01,  2.39s/it]\n",
      "2025-02-26 14:39:10,513 [INFO] 28%|##7       | 19/69 [00:46<01:58,  2.37s/it]\n",
      "2025-02-26 14:39:12,968 [INFO] 29%|##8       | 20/69 [00:49<01:57,  2.40s/it]\n",
      "2025-02-26 14:39:15,329 [INFO] 30%|###       | 21/69 [00:51<01:54,  2.39s/it]\n",
      "2025-02-26 14:39:17,674 [INFO] 32%|###1      | 22/69 [00:53<01:51,  2.37s/it]\n",
      "2025-02-26 14:39:20,053 [INFO] 33%|###3      | 23/69 [00:56<01:49,  2.38s/it]\n",
      "2025-02-26 14:39:22,370 [INFO] 35%|###4      | 24/69 [00:58<01:46,  2.36s/it]\n",
      "2025-02-26 14:39:24,664 [INFO] 36%|###6      | 25/69 [01:00<01:42,  2.34s/it]\n",
      "2025-02-26 14:39:26,974 [INFO] 38%|###7      | 26/69 [01:03<01:40,  2.33s/it]\n",
      "2025-02-26 14:39:29,261 [INFO] 39%|###9      | 27/69 [01:05<01:37,  2.32s/it]\n",
      "2025-02-26 14:39:31,612 [INFO] 41%|####      | 28/69 [01:07<01:35,  2.33s/it]\n",
      "2025-02-26 14:39:33,987 [INFO] 42%|####2     | 29/69 [01:10<01:33,  2.34s/it]\n",
      "2025-02-26 14:39:36,320 [INFO] 43%|####3     | 30/69 [01:12<01:31,  2.34s/it]\n",
      "2025-02-26 14:39:38,745 [INFO] 45%|####4     | 31/69 [01:15<01:29,  2.36s/it]\n",
      "2025-02-26 14:39:41,176 [INFO] 46%|####6     | 32/69 [01:17<01:28,  2.38s/it]\n",
      "2025-02-26 14:39:43,538 [INFO] 48%|####7     | 33/69 [01:19<01:25,  2.38s/it]\n",
      "2025-02-26 14:39:45,946 [INFO] 49%|####9     | 34/69 [01:22<01:23,  2.39s/it]\n",
      "2025-02-26 14:39:48,263 [INFO] 51%|#####     | 35/69 [01:24<01:20,  2.37s/it]\n",
      "2025-02-26 14:39:50,653 [INFO] 52%|#####2    | 36/69 [01:26<01:18,  2.37s/it]\n",
      "2025-02-26 14:39:53,037 [INFO] 54%|#####3    | 37/69 [01:29<01:16,  2.38s/it]\n",
      "2025-02-26 14:39:55,437 [INFO] 55%|#####5    | 38/69 [01:31<01:13,  2.38s/it]\n",
      "2025-02-26 14:39:57,846 [INFO] 57%|#####6    | 39/69 [01:34<01:11,  2.39s/it]\n",
      "2025-02-26 14:40:00,371 [INFO] 58%|#####7    | 40/69 [01:36<01:10,  2.43s/it]\n",
      "2025-02-26 14:40:02,945 [INFO] 59%|#####9    | 41/69 [01:39<01:09,  2.47s/it]\n",
      "2025-02-26 14:40:05,401 [INFO] 61%|######    | 42/69 [01:41<01:06,  2.47s/it]\n",
      "2025-02-26 14:40:07,832 [INFO] 62%|######2   | 43/69 [01:44<01:03,  2.46s/it]\n",
      "2025-02-26 14:40:10,262 [INFO] 64%|######3   | 44/69 [01:46<01:01,  2.45s/it]\n",
      "2025-02-26 14:40:12,633 [INFO] 65%|######5   | 45/69 [01:48<00:58,  2.43s/it]\n",
      "2025-02-26 14:40:15,046 [INFO] 67%|######6   | 46/69 [01:51<00:55,  2.42s/it]\n",
      "2025-02-26 14:40:17,433 [INFO] 68%|######8   | 47/69 [01:53<00:53,  2.41s/it]\n",
      "2025-02-26 14:40:19,852 [INFO] 70%|######9   | 48/69 [01:56<00:50,  2.41s/it]\n",
      "2025-02-26 14:40:22,205 [INFO] 71%|#######1  | 49/69 [01:58<00:47,  2.40s/it]\n",
      "2025-02-26 14:40:24,480 [INFO] 72%|#######2  | 50/69 [02:00<00:44,  2.36s/it]\n",
      "2025-02-26 14:40:26,757 [INFO] 74%|#######3  | 51/69 [02:03<00:42,  2.33s/it]\n",
      "2025-02-26 14:40:29,081 [INFO] 75%|#######5  | 52/69 [02:05<00:39,  2.33s/it]\n",
      "2025-02-26 14:40:31,454 [INFO] 77%|#######6  | 53/69 [02:07<00:37,  2.34s/it]\n",
      "2025-02-26 14:40:33,861 [INFO] 78%|#######8  | 54/69 [02:10<00:35,  2.36s/it]\n",
      "2025-02-26 14:40:36,165 [INFO] 80%|#######9  | 55/69 [02:12<00:32,  2.35s/it]\n",
      "2025-02-26 14:40:38,430 [INFO] 81%|########1 | 56/69 [02:14<00:30,  2.32s/it]\n",
      "2025-02-26 14:40:40,863 [INFO] 83%|########2 | 57/69 [02:17<00:28,  2.35s/it]\n",
      "2025-02-26 14:40:43,460 [INFO] 84%|########4 | 58/69 [02:19<00:26,  2.43s/it]\n",
      "2025-02-26 14:40:45,893 [INFO] 86%|########5 | 59/69 [02:22<00:24,  2.43s/it]\n",
      "2025-02-26 14:40:48,381 [INFO] 87%|########6 | 60/69 [02:24<00:22,  2.45s/it]\n",
      "2025-02-26 14:40:50,982 [INFO] 88%|########8 | 61/69 [02:27<00:19,  2.49s/it]\n",
      "2025-02-26 14:40:53,377 [INFO] 90%|########9 | 62/69 [02:29<00:17,  2.46s/it]\n",
      "2025-02-26 14:40:55,809 [INFO] 91%|#########1| 63/69 [02:32<00:14,  2.45s/it]\n",
      "2025-02-26 14:40:58,232 [INFO] 93%|#########2| 64/69 [02:34<00:12,  2.44s/it]\n",
      "2025-02-26 14:41:00,599 [INFO] 94%|#########4| 65/69 [02:36<00:09,  2.42s/it]\n",
      "2025-02-26 14:41:03,060 [INFO] 96%|#########5| 66/69 [02:39<00:07,  2.43s/it]\n",
      "2025-02-26 14:41:05,445 [INFO] 97%|#########7| 67/69 [02:41<00:04,  2.42s/it]\n",
      "2025-02-26 14:41:07,930 [INFO] 99%|#########8| 68/69 [02:44<00:02,  2.44s/it]\n",
      "2025-02-26 14:41:10,442 [INFO] 100%|##########| 69/69 [02:46<00:00,  2.46s/it]\n",
      "2025-02-26 14:41:10,443 [INFO] 100%|##########| 69/69 [02:46<00:00,  2.42s/it]\n",
      "2025-02-26 14:41:11,537 [INFO] network run in 414.16s\n",
      "2025-02-26 14:41:58,720 [INFO] masks created in 47.18s\n",
      "2025-02-26 14:42:01,405 [INFO] >>>> TOTAL TIME 464.38 sec\n"
     ]
    }
   ],
   "source": [
    "masks, flows, styles, diams = model.eval(\n",
    "    [smoothed_img],\n",
    "    batch_size=8,\n",
    "    diameter=diameter,\n",
    "    z_axis=0,\n",
    "    do_3D=True,\n",
    "    channels=[0, 0],\n",
    "    # stitch_threshold=0.5,\n",
    "    normalize=True,\n",
    "    flow_threshold=0.2,\n",
    "    cellprob_threshold=4.0,\n",
    "    anisotropy=anisotropy,\n",
    ")"
   ]
  },
  {
   "cell_type": "code",
   "execution_count": 12,
   "metadata": {},
   "outputs": [
    {
     "data": {
      "text/plain": [
       "<Labels layer 'Labels' at 0x237b1805100>"
      ]
     },
     "execution_count": 12,
     "metadata": {},
     "output_type": "execute_result"
    }
   ],
   "source": [
    "viewer = Viewer()\n",
    "viewer.add_image(img, scale=spacing)\n",
    "viewer.add_labels(masks[0], scale=spacing)"
   ]
  },
  {
   "cell_type": "markdown",
   "metadata": {},
   "source": [
    "It's working quite well for most of the nuclei.\n",
    "Some are still over segmented and this needs some filtering of small objects."
   ]
  },
  {
   "cell_type": "code",
   "execution_count": 13,
   "metadata": {},
   "outputs": [
    {
     "name": "stdout",
     "output_type": "stream",
     "text": [
      "voxel size is 0.024654940585278305\n",
      "The minimum size for an acceptable nuclei size would be 49.30988117055661 um3\n"
     ]
    }
   ],
   "source": [
    "voxel_size = scale[\"X\"] * scale[\"Y\"] * scale[\"Z\"]\n",
    "print(f\"voxel size is {voxel_size}\")\n",
    "minimum_nuclei_volume = 2000 * voxel_size\n",
    "print(\n",
    "    f\"The minimum size for an acceptable nuclei \"\n",
    "    f\"size would be {minimum_nuclei_volume} um3\"\n",
    ")"
   ]
  },
  {
   "cell_type": "code",
   "execution_count": 14,
   "metadata": {},
   "outputs": [],
   "source": [
    "from skimage.util import apply_parallel  # noqa\n",
    "\n",
    "label = apply_parallel(erosion, masks[0], chunks=(1, masks[0].shape[1], masks[0].shape[2]), compute=True, extra_keywords={\"footprint\": ball(4)}, dtype=\"uint16\")\n",
    "label = remove_small_objects(label, minimum_nuclei_volume / voxel_size)"
   ]
  },
  {
   "cell_type": "code",
   "execution_count": 15,
   "metadata": {},
   "outputs": [
    {
     "data": {
      "text/plain": [
       "<Labels layer 'label' at 0x237b39ffe60>"
      ]
     },
     "execution_count": 15,
     "metadata": {},
     "output_type": "execute_result"
    }
   ],
   "source": [
    "viewer = Viewer()\n",
    "viewer.add_image(img, scale=spacing)\n",
    "viewer.add_labels(label, scale=spacing)"
   ]
  },
  {
   "cell_type": "markdown",
   "metadata": {},
   "source": [
    "After this smoothing of the labels, segmentation of nuclei looks quite fine."
   ]
  }
 ],
 "metadata": {
  "kernelspec": {
   "display_name": "neuroscan",
   "language": "python",
   "name": "python3"
  },
  "language_info": {
   "codemirror_mode": {
    "name": "ipython",
    "version": 3
   },
   "file_extension": ".py",
   "mimetype": "text/x-python",
   "name": "python",
   "nbconvert_exporter": "python",
   "pygments_lexer": "ipython3",
   "version": "3.12.7"
  }
 },
 "nbformat": 4,
 "nbformat_minor": 2
}
