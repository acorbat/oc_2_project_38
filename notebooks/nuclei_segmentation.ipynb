{
 "cells": [
  {
   "cell_type": "markdown",
   "metadata": {},
   "source": [
    "# Nuclei Segmentation\n",
    "\n",
    "Let's begin with nuclei segmentation.\n",
    "We can either segment the DAPI channel and then filter out the healthy nuclei, segment only the healthy nuclei or go for the ISL1 channel that has the label for the nuclei of interest.\n",
    "\n",
    "Let's select an image and then crop out a small piece of it to make testing easier."
   ]
  },
  {
   "cell_type": "code",
   "execution_count": 1,
   "metadata": {},
   "outputs": [],
   "source": [
    "from pathlib import Path\n",
    "\n",
    "import numpy as np\n",
    "from czifile import CziFile\n",
    "from napari import Viewer\n",
    "from skimage.morphology import ball, erosion, remove_small_objects"
   ]
  },
  {
   "cell_type": "code",
   "execution_count": 2,
   "metadata": {},
   "outputs": [],
   "source": [
    "DATA_DIR = Path(\n",
    "    \"../data/20240729/980/20x_with_z_correction/NS#4_Healthy_5uM_MI132_D19_G3BP,Iselt,DAPI_20x+ZCorr.czi\"\n",
    ")\n",
    "image_handle = CziFile(DATA_DIR)\n",
    "img = np.squeeze(image_handle.asarray())[2, :, 1250:2000, 1250:2000]"
   ]
  },
  {
   "cell_type": "code",
   "execution_count": 3,
   "metadata": {},
   "outputs": [
    {
     "data": {
      "text/plain": [
       "(0.75, 0.18130982905982898, 0.18130982905982898)"
      ]
     },
     "execution_count": 3,
     "metadata": {},
     "output_type": "execute_result"
    }
   ],
   "source": [
    "scale = {\n",
    "    values_dict[\"Id\"]: values_dict[\"Value\"] * 10**6\n",
    "    for values_dict in image_handle.metadata(raw=False)[\"ImageDocument\"][\"Metadata\"][\n",
    "        \"Scaling\"\n",
    "    ][\"Items\"][\"Distance\"]\n",
    "}\n",
    "spacing = (scale[\"Z\"], scale[\"Y\"], scale[\"X\"])\n",
    "spacing"
   ]
  },
  {
   "cell_type": "markdown",
   "metadata": {},
   "source": [
    "## Preprocessing image\n",
    "\n",
    "We will reduce noise in the image by applying a gaussian filter to it."
   ]
  },
  {
   "cell_type": "code",
   "execution_count": 4,
   "metadata": {},
   "outputs": [],
   "source": [
    "from skimage.filters import gaussian # noqa"
   ]
  },
  {
   "cell_type": "code",
   "execution_count": null,
   "metadata": {},
   "outputs": [],
   "source": [
    "smoothed_img = gaussian(img, sigma=(1/spacing[0], 0.5/spacing[1], 0.5/spacing[2]))"
   ]
  },
  {
   "cell_type": "code",
   "execution_count": 6,
   "metadata": {},
   "outputs": [
    {
     "data": {
      "text/plain": [
       "<Image layer 'smoothed_img' at 0x24f02ea0ef0>"
      ]
     },
     "execution_count": 6,
     "metadata": {},
     "output_type": "execute_result"
    }
   ],
   "source": [
    "viewer = Viewer()\n",
    "viewer.add_image(img, scale=spacing, visible=False)\n",
    "viewer.add_image(smoothed_img, scale=spacing, visible=True)"
   ]
  },
  {
   "cell_type": "markdown",
   "metadata": {},
   "source": [
    "## Cellpose\n",
    "\n",
    "Let's begin by trying out cellpose."
   ]
  },
  {
   "cell_type": "code",
   "execution_count": 7,
   "metadata": {},
   "outputs": [
    {
     "name": "stdout",
     "output_type": "stream",
     "text": [
      "2024-11-28 13:55:25,209 [INFO] WRITING LOG OUTPUT TO C:\\Users\\aguco599\\.cellpose\\run.log\n",
      "2024-11-28 13:55:25,210 [INFO] \n",
      "cellpose version: \t3.1.0 \n",
      "platform:       \twin32 \n",
      "python version: \t3.12.7 \n",
      "torch version:  \t2.2.2\n"
     ]
    },
    {
     "data": {
      "text/plain": [
       "(<Logger cellpose.io (INFO)>,\n",
       " WindowsPath('C:/Users/aguco599/.cellpose/run.log'))"
      ]
     },
     "execution_count": 7,
     "metadata": {},
     "output_type": "execute_result"
    }
   ],
   "source": [
    "from cellpose import models  # noqa\n",
    "from cellpose.io import logger_setup  # noqa\n",
    "\n",
    "logger_setup()"
   ]
  },
  {
   "cell_type": "code",
   "execution_count": 8,
   "metadata": {},
   "outputs": [
    {
     "name": "stdout",
     "output_type": "stream",
     "text": [
      "2024-11-28 13:55:25,255 [INFO] >>>> using CPU\n",
      "2024-11-28 13:55:25,256 [INFO] >>>> using CPU\n",
      "2024-11-28 13:55:25,256 [INFO] >> cyto3 << model set to be used\n",
      "2024-11-28 13:55:25,294 [INFO] >>>> loading model C:\\Users\\aguco599\\.cellpose\\models\\cyto3\n",
      "2024-11-28 13:55:25,375 [INFO] >>>> model diam_mean =  30.000 (ROIs rescaled to this size during training)\n"
     ]
    }
   ],
   "source": [
    "model = models.Cellpose(model_type=\"cyto3\")"
   ]
  },
  {
   "cell_type": "markdown",
   "metadata": {},
   "source": [
    "After a couple attempts with several algorithms, I thought there might be issues with all the saturated nuclei.\n",
    "To circunvent this, I made a mask for those pixels, calculated the distance transform and added this to the original image in order to have some values here."
   ]
  },
  {
   "cell_type": "code",
   "execution_count": 9,
   "metadata": {},
   "outputs": [
    {
     "name": "stdout",
     "output_type": "stream",
     "text": [
      "4.136565589902539\n"
     ]
    }
   ],
   "source": [
    "anisotropy = scale[\"Z\"] / scale[\"X\"]\n",
    "print(anisotropy)"
   ]
  },
  {
   "cell_type": "code",
   "execution_count": 10,
   "metadata": {},
   "outputs": [
    {
     "name": "stdout",
     "output_type": "stream",
     "text": [
      "55.15420786536719\n"
     ]
    }
   ],
   "source": [
    "diameter = 10 / scale[\"X\"]\n",
    "print(diameter)"
   ]
  },
  {
   "cell_type": "code",
   "execution_count": 11,
   "metadata": {},
   "outputs": [
    {
     "name": "stdout",
     "output_type": "stream",
     "text": [
      "2024-11-28 13:55:25,449 [INFO] channels set to [0, 0]\n",
      "2024-11-28 13:55:25,449 [INFO] ~~~ FINDING MASKS ~~~\n",
      "2024-11-28 13:55:25,450 [INFO] multi-stack tiff read in as having 74 planes 1 channels\n",
      "2024-11-28 13:55:25,813 [INFO] resizing 3D image with rescale=0.54 and anisotropy=4.136565589902539\n",
      "2024-11-28 13:55:25,960 [INFO] running YX: 166 planes of size (407, 407)\n",
      "2024-11-28 13:55:25,965 [INFO] 0%|          | 0/166 [00:00<?, ?it/s]\n",
      "2024-11-28 13:55:56,184 [INFO] 23%|##3       | 39/166 [00:30<01:38,  1.29it/s]\n",
      "2024-11-28 13:56:15,996 [INFO] 23%|##3       | 39/166 [00:50<01:38,  1.29it/s]\n",
      "2024-11-28 13:56:26,438 [INFO] 46%|####6     | 77/166 [01:00<01:10,  1.27it/s]\n",
      "2024-11-28 13:56:46,031 [INFO] 46%|####6     | 77/166 [01:20<01:10,  1.27it/s]\n",
      "2024-11-28 13:56:56,578 [INFO] 69%|######9   | 115/166 [01:30<00:40,  1.27it/s]\n",
      "2024-11-28 13:57:16,074 [INFO] 69%|######9   | 115/166 [01:50<00:40,  1.27it/s]\n",
      "2024-11-28 13:57:26,955 [INFO] 92%|#########2| 153/166 [02:00<00:10,  1.26it/s]\n",
      "2024-11-28 13:57:37,243 [INFO] 100%|##########| 166/166 [02:11<00:00,  1.26it/s]\n",
      "2024-11-28 13:57:37,447 [INFO] running ZY: 407 planes of size (166, 407)\n",
      "2024-11-28 13:57:37,448 [INFO] 0%|          | 0/204 [00:00<?, ?it/s]\n",
      "2024-11-28 13:58:07,590 [INFO] 33%|###2      | 67/204 [00:30<01:01,  2.22it/s]\n",
      "2024-11-28 13:58:26,103 [INFO] 33%|###2      | 67/204 [00:48<01:01,  2.22it/s]\n",
      "2024-11-28 13:58:37,776 [INFO] 70%|#######   | 143/204 [01:00<00:25,  2.40it/s]\n",
      "2024-11-28 13:58:56,128 [INFO] 70%|#######   | 143/204 [01:18<00:25,  2.40it/s]\n",
      "2024-11-28 13:59:01,964 [INFO] 100%|##########| 204/204 [01:24<00:00,  2.41it/s]\n",
      "2024-11-28 13:59:02,174 [INFO] running ZX: 407 planes of size (166, 407)\n",
      "2024-11-28 13:59:02,175 [INFO] 0%|          | 0/204 [00:00<?, ?it/s]\n",
      "2024-11-28 13:59:32,492 [INFO] 37%|###6      | 75/204 [00:30<00:52,  2.47it/s]\n",
      "2024-11-28 13:59:46,150 [INFO] 37%|###6      | 75/204 [00:43<00:52,  2.47it/s]\n",
      "2024-11-28 14:00:02,877 [INFO] 74%|#######3  | 150/204 [01:00<00:21,  2.47it/s]\n",
      "2024-11-28 14:00:16,188 [INFO] 74%|#######3  | 150/204 [01:14<00:21,  2.47it/s]\n",
      "2024-11-28 14:00:24,771 [INFO] 100%|##########| 204/204 [01:22<00:00,  2.47it/s]\n",
      "2024-11-28 14:00:25,121 [INFO] resizing 3D flows and cellprob to original image size\n",
      "2024-11-28 14:00:26,128 [INFO] network run in 300.32s\n",
      "2024-11-28 14:03:10,633 [INFO] masks created in 164.32s\n",
      "2024-11-28 14:03:13,087 [INFO] >>>> TOTAL TIME 467.64 sec\n"
     ]
    }
   ],
   "source": [
    "masks, flows, styles, diams = model.eval(\n",
    "    [smoothed_img],\n",
    "    batch_size=8,\n",
    "    diameter=diameter,\n",
    "    z_axis=0,\n",
    "    do_3D=True,\n",
    "    channels=[0, 0],\n",
    "    # stitch_threshold=0.5,\n",
    "    normalize=True,\n",
    "    flow_threshold=0.2,\n",
    "    cellprob_threshold=4.0,\n",
    "    anisotropy=anisotropy,\n",
    ")"
   ]
  },
  {
   "cell_type": "code",
   "execution_count": 12,
   "metadata": {},
   "outputs": [
    {
     "data": {
      "text/plain": [
       "<Labels layer 'Labels' at 0x24f2a2cb020>"
      ]
     },
     "execution_count": 12,
     "metadata": {},
     "output_type": "execute_result"
    }
   ],
   "source": [
    "viewer = Viewer()\n",
    "viewer.add_image(img, scale=spacing)\n",
    "viewer.add_labels(masks[0], scale=spacing)"
   ]
  },
  {
   "cell_type": "markdown",
   "metadata": {},
   "source": [
    "It's working quite well for most of the nuclei.\n",
    "Some are still over segmented and this needs some filtering of small objects."
   ]
  },
  {
   "cell_type": "code",
   "execution_count": 13,
   "metadata": {},
   "outputs": [
    {
     "name": "stdout",
     "output_type": "stream",
     "text": [
      "voxel size is 0.024654940585278305\n",
      "The minimum size for an acceptable nuclei size would be 49.30988117055661 um3\n"
     ]
    }
   ],
   "source": [
    "voxel_size = scale[\"X\"] * scale[\"Y\"] * scale[\"Z\"]\n",
    "print(f\"voxel size is {voxel_size}\")\n",
    "minimum_nuclei_volume = 2000 * voxel_size\n",
    "print(\n",
    "    f\"The minimum size for an acceptable nuclei \"\n",
    "    f\"size would be {minimum_nuclei_volume} um3\"\n",
    ")"
   ]
  },
  {
   "cell_type": "code",
   "execution_count": 14,
   "metadata": {},
   "outputs": [],
   "source": [
    "from skimage.util import apply_parallel  # noqa\n",
    "\n",
    "label = apply_parallel(erosion, masks[0], chunks=(1, masks[0].shape[1], masks[0].shape[2]), compute=True, extra_keywords={\"footprint\": ball(4)}, dtype=\"uint16\")\n",
    "label = remove_small_objects(label, minimum_nuclei_volume / voxel_size)"
   ]
  },
  {
   "cell_type": "code",
   "execution_count": 15,
   "metadata": {},
   "outputs": [
    {
     "data": {
      "text/plain": [
       "<Labels layer 'label' at 0x24f13def4a0>"
      ]
     },
     "execution_count": 15,
     "metadata": {},
     "output_type": "execute_result"
    }
   ],
   "source": [
    "viewer = Viewer()\n",
    "viewer.add_image(img, scale=spacing)\n",
    "viewer.add_labels(label, scale=spacing)"
   ]
  },
  {
   "cell_type": "markdown",
   "metadata": {},
   "source": [
    "After this smoothing of the labels, segmentation of nuclei looks quite fine."
   ]
  }
 ],
 "metadata": {
  "kernelspec": {
   "display_name": "Python 3",
   "language": "python",
   "name": "python3"
  },
  "language_info": {
   "codemirror_mode": {
    "name": "ipython",
    "version": 3
   },
   "file_extension": ".py",
   "mimetype": "text/x-python",
   "name": "python",
   "nbconvert_exporter": "python",
   "pygments_lexer": "ipython3",
   "version": "3.12.7"
  }
 },
 "nbformat": 4,
 "nbformat_minor": 2
}
