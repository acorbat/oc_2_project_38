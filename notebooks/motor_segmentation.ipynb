{
 "cells": [
  {
   "cell_type": "markdown",
   "metadata": {},
   "source": [
    "# Motor Neuron Segmentation\n",
    "\n",
    "Motor neuron nuclei are labelled with antibodies against ISL1 and they are actually the cells of interest.\n",
    "Although it would be nice to segment all nuclei, the primary objectivo is to find the motor neurons.\n",
    "\n",
    "Let's select an image and then crop out a small piece of it to make testing easier."
   ]
  },
  {
   "cell_type": "code",
   "execution_count": null,
   "metadata": {},
   "outputs": [],
   "source": [
    "from pathlib import Path\n",
    "\n",
    "import numpy as np\n",
    "import pandas as pd\n",
    "from czifile import CziFile\n",
    "from napari import Viewer\n",
    "from scipy.ndimage import distance_transform_edt\n",
    "from skimage.filters import gaussian\n",
    "from skimage.measure import regionprops_table"
   ]
  },
  {
   "cell_type": "code",
   "execution_count": null,
   "metadata": {},
   "outputs": [],
   "source": [
    "DATA_DIR = Path(\n",
    "    \"../data/20240729/980/20x_with_z_correction/NS#4_Healthy_5uM_MI132_D19_G3BP,Iselt,DAPI_20x+ZCorr.czi\"\n",
    ")\n",
    "image_handle = CziFile(DATA_DIR)\n",
    "img = np.squeeze(image_handle.asarray())[1, :, 1250:1750, 1250:1750]"
   ]
  },
  {
   "cell_type": "code",
   "execution_count": null,
   "metadata": {},
   "outputs": [],
   "source": [
    "scale = {\n",
    "    values_dict[\"Id\"]: values_dict[\"Value\"] * 10**6\n",
    "    for values_dict in image_handle.metadata(raw=False)[\"ImageDocument\"][\"Metadata\"][\n",
    "        \"Scaling\"\n",
    "    ][\"Items\"][\"Distance\"]\n",
    "}\n",
    "spacing = (scale[\"Z\"], scale[\"Y\"], scale[\"X\"])"
   ]
  },
  {
   "cell_type": "markdown",
   "metadata": {},
   "source": [
    "## Histogram Equalization\n",
    "\n",
    "We should first try some histogram equalization as the intensity values ar every different across planes.\n",
    "I am not sure this will solve some of the saturation problems though."
   ]
  },
  {
   "cell_type": "code",
   "execution_count": null,
   "metadata": {},
   "outputs": [],
   "source": [
    "from skimage.exposure import equalize_adapthist  # noqa"
   ]
  },
  {
   "cell_type": "code",
   "execution_count": null,
   "metadata": {},
   "outputs": [],
   "source": [
    "kernel = (50 / scale[\"Z\"], 50 / scale[\"Y\"], 50 / scale[\"X\"])\n",
    "\n",
    "equalized_img = equalize_adapthist(\n",
    "    img,\n",
    "    kernel_size=kernel,\n",
    "    clip_limit=0.001,\n",
    ")"
   ]
  },
  {
   "cell_type": "code",
   "execution_count": null,
   "metadata": {},
   "outputs": [],
   "source": [
    "viewer = Viewer()\n",
    "viewer.add_image(img, scale=spacing, visible=False)\n",
    "viewer.add_image(equalized_img, scale=spacing, visible=True)"
   ]
  },
  {
   "cell_type": "markdown",
   "metadata": {},
   "source": [
    "## Cellpose\n",
    "\n",
    "Let's begin by trying out cellpose."
   ]
  },
  {
   "cell_type": "code",
   "execution_count": null,
   "metadata": {},
   "outputs": [],
   "source": [
    "from cellpose import models  # noqa\n",
    "from cellpose.io import logger_setup  # noqa\n",
    "from skimage.morphology import remove_small_objects, ball  # noqa\n",
    "\n",
    "logger_setup()"
   ]
  },
  {
   "cell_type": "code",
   "execution_count": null,
   "metadata": {},
   "outputs": [],
   "source": [
    "model = models.Cellpose(model_type=\"cyto3\")"
   ]
  },
  {
   "cell_type": "markdown",
   "metadata": {},
   "source": [
    "Estimate anisotropy: Z to X ratio"
   ]
  },
  {
   "cell_type": "code",
   "execution_count": null,
   "metadata": {},
   "outputs": [],
   "source": [
    "anisotropy = scale[\"Z\"] / scale[\"X\"]\n",
    "print(anisotropy)"
   ]
  },
  {
   "cell_type": "code",
   "execution_count": null,
   "metadata": {},
   "outputs": [],
   "source": [
    "diameter = 10 / scale[\"X\"]\n",
    "print(diameter)"
   ]
  },
  {
   "cell_type": "markdown",
   "metadata": {},
   "source": [
    "Estimated diameter of a cell is 8 to 14 $\\mu$m."
   ]
  },
  {
   "cell_type": "markdown",
   "metadata": {},
   "source": [
    "We could smooth the image to get rid of noise.\n",
    "We should do this taking into account the resolution of the microscope.\n",
    "If we use optical resolution matching gaussian filtering we should get for lateral resolution\n",
    "\n",
    "$$ \\frac{0.6 * 600 nm}{0.7} = 514 nm $$\n",
    "\n",
    "and for axial resolution\n",
    "\n",
    "$$ \\frac{1.4 * 600 nm}{0.7^2} = 1714 nm $$"
   ]
  },
  {
   "cell_type": "code",
   "execution_count": null,
   "metadata": {},
   "outputs": [],
   "source": [
    "(1.714 / scale[\"Z\"],0.514 / scale[\"Y\"] 0.514 / scale[\"X\"])"
   ]
  },
  {
   "cell_type": "code",
   "execution_count": null,
   "metadata": {},
   "outputs": [],
   "source": [
    "smooth = gaussian(img, (1.714 / scale[\"Z\"], 0.514 / scale[\"Y\"], 0.514 / scale[\"X\"]))"
   ]
  },
  {
   "cell_type": "code",
   "execution_count": null,
   "metadata": {},
   "outputs": [],
   "source": [
    "masks, flows, styles, diams = model.eval(\n",
    "    [smooth],\n",
    "    batch_size=8,\n",
    "    diameter=diameter,\n",
    "    z_axis=0,\n",
    "    do_3D=True,\n",
    "    channels=[0, 0],\n",
    "    # stitch_threshold=0.5,\n",
    "    normalize=True,\n",
    "    anisotropy=anisotropy,\n",
    "    # flow_threshold=2,\n",
    "    compute_masks=True,\n",
    ")"
   ]
  },
  {
   "cell_type": "code",
   "execution_count": null,
   "metadata": {},
   "outputs": [],
   "source": [
    "viewer = Viewer()\n",
    "viewer.add_image(img, scale=spacing)\n",
    "viewer.add_labels(masks[0], scale=spacing)"
   ]
  },
  {
   "cell_type": "markdown",
   "metadata": {},
   "source": [
    "These parameters seem to have worked better.\n",
    "Masks still require some improvement.\n",
    "\n",
    "The first step would be to filter out small segmented nuclei whcih usually correspond to oversegmentation or noise."
   ]
  },
  {
   "cell_type": "code",
   "execution_count": null,
   "metadata": {},
   "outputs": [],
   "source": [
    "voxel_size = scale[\"X\"] * scale[\"Y\"] * scale[\"Z\"]\n",
    "print(f\"voxel size is {voxel_size}\")\n",
    "minimum_nuclei_volume = 2000 * voxel_size\n",
    "print(\n",
    "    f\"The minimum size for an acceptable nuclei \"\n",
    "    f\"size would be {minimum_nuclei_volume} um3\"\n",
    ")"
   ]
  },
  {
   "cell_type": "code",
   "execution_count": null,
   "metadata": {},
   "outputs": [],
   "source": [
    "label = remove_small_objects(masks[0], minimum_nuclei_volume / voxel_size)"
   ]
  },
  {
   "cell_type": "code",
   "execution_count": null,
   "metadata": {},
   "outputs": [],
   "source": [
    "viewer = Viewer()\n",
    "viewer.add_image(img, scale=spacing)\n",
    "viewer.add_labels(label, scale=spacing)"
   ]
  },
  {
   "cell_type": "markdown",
   "metadata": {},
   "source": [
    "We could now filter out nuclei which are too dim to actually belong to a positive Islet nuclei.\n",
    "One way of doing so is to estimate the mean intensity and then remove everything that is below the 5% quantile.\n",
    "This might not be ideal for every image if only bright nuclei are segmented."
   ]
  },
  {
   "cell_type": "code",
   "execution_count": null,
   "metadata": {},
   "outputs": [],
   "source": [
    "properties = pd.DataFrame.from_dict(\n",
    "    regionprops_table(label, img, properties=[\"label\", \"area\", \"intensity_mean\"])\n",
    ")\n",
    "properties.sort_values(\"intensity_mean\")"
   ]
  },
  {
   "cell_type": "code",
   "execution_count": null,
   "metadata": {},
   "outputs": [],
   "source": [
    "nuclei_to_remove = properties.query(\n",
    "    f\"intensity_mean <= {properties.intensity_mean.quantile(0.05)}\"\n",
    ").label.values"
   ]
  },
  {
   "cell_type": "code",
   "execution_count": null,
   "metadata": {},
   "outputs": [],
   "source": [
    "for this_nuclei in nuclei_to_remove:\n",
    "    label[label == this_nuclei] = 0"
   ]
  },
  {
   "cell_type": "code",
   "execution_count": null,
   "metadata": {},
   "outputs": [],
   "source": [
    "viewer = Viewer()\n",
    "viewer.add_image(img, scale=spacing)\n",
    "viewer.add_labels(label, scale=spacing)"
   ]
  },
  {
   "cell_type": "markdown",
   "metadata": {},
   "source": [
    "## StarDist\n",
    "\n",
    "Maybe stardist might work.\n",
    "Not tested yet."
   ]
  },
  {
   "cell_type": "markdown",
   "metadata": {},
   "source": [
    "## Clesperanto Voronoi Otsu\n",
    "\n",
    "Maybe Clesperanto's Voronoi and Otsu labelling works well here."
   ]
  },
  {
   "cell_type": "code",
   "execution_count": null,
   "metadata": {},
   "outputs": [],
   "source": [
    "import pyclesperanto_prototype as cle  # noqa\n",
    "\n",
    "cle.available_device_names()"
   ]
  },
  {
   "cell_type": "code",
   "execution_count": null,
   "metadata": {},
   "outputs": [],
   "source": [
    "input_gpu = cle.push(img[3])\n",
    "input_gpu"
   ]
  },
  {
   "cell_type": "markdown",
   "metadata": {},
   "source": [
    "I was unable to make clesperanto work on the laptop."
   ]
  },
  {
   "cell_type": "markdown",
   "metadata": {},
   "source": [
    "## Thresholding\n",
    "\n",
    "Let's go for typical thresholding techniques as nuclei might be separated enough to not need watershed or maybe a simple watershed."
   ]
  },
  {
   "cell_type": "code",
   "execution_count": null,
   "metadata": {},
   "outputs": [],
   "source": [
    "from skimage.feature import peak_local_max  # noqa\n",
    "from skimage.filters import (  # noqa\n",
    "    median,\n",
    "    scharr,\n",
    "    threshold_otsu,\n",
    "    try_all_threshold,\n",
    ")\n",
    "from skimage.morphology import ball, binary_erosion, dilation, disk  # noqa\n",
    "from skimage.segmentation import watershed  # noqa"
   ]
  },
  {
   "cell_type": "markdown",
   "metadata": {},
   "source": [
    "Let's begin with some median filtering to enhance a bit the edges.\n",
    "I'm using my own footprint.\n",
    "\n",
    "And then use Otsu thresolding."
   ]
  },
  {
   "cell_type": "code",
   "execution_count": null,
   "metadata": {},
   "outputs": [],
   "source": [
    "pixel_resolution = 0.5 / scale[\"X\"]\n",
    "\n",
    "footprint = np.stack(\n",
    "    [\n",
    "        np.zeros_like(disk(pixel_resolution)),\n",
    "        disk(pixel_resolution),\n",
    "        np.zeros_like(disk(pixel_resolution)),\n",
    "    ]\n",
    ")\n",
    "midpoint = footprint.shape[1] // 2\n",
    "footprint[0, midpoint, midpoint] = 1\n",
    "footprint[2, midpoint, midpoint] = 1\n",
    "\n",
    "filtered_image = median(img, footprint=footprint)\n",
    "# filtered_image = gaussian(img, sigma=(0.8, 2, 2))\n",
    "threshold = threshold_otsu(filtered_image)\n",
    "nuclei = filtered_image > threshold"
   ]
  },
  {
   "cell_type": "code",
   "execution_count": null,
   "metadata": {},
   "outputs": [],
   "source": [
    "try_all_threshold(img[10])"
   ]
  },
  {
   "cell_type": "code",
   "execution_count": null,
   "metadata": {},
   "outputs": [],
   "source": [
    "viewer = Viewer()\n",
    "viewer.add_image(img, scale=spacing)\n",
    "viewer.add_image(filtered_image, scale=spacing, visible=False)\n",
    "viewer.add_labels(nuclei, scale=spacing)"
   ]
  },
  {
   "cell_type": "markdown",
   "metadata": {},
   "source": [
    "Let's apply watershed to get a better separation between nuclei.\n",
    "We will need the seeds."
   ]
  },
  {
   "cell_type": "code",
   "execution_count": null,
   "metadata": {},
   "outputs": [],
   "source": [
    "footprint = np.stack([np.zeros_like(disk(1)), disk(1), np.zeros_like(disk(1))])\n",
    "\n",
    "inter = binary_erosion(nuclei, footprint=footprint)\n",
    "\n",
    "transformed = distance_transform_edt(inter, sampling=spacing)\n",
    "\n",
    "distance_between_nuclei = 1.7  # in um\n",
    "pixel_min_distance = np.floor(distance_between_nuclei / scale[\"X\"]).astype(int)\n",
    "\n",
    "maxima = peak_local_max(transformed, min_distance=pixel_min_distance)"
   ]
  },
  {
   "cell_type": "code",
   "execution_count": null,
   "metadata": {},
   "outputs": [],
   "source": [
    "print(pixel_min_distance, len(maxima))"
   ]
  },
  {
   "cell_type": "markdown",
   "metadata": {},
   "source": [
    "We need an image for the edges of the nuclei to limit the watershed."
   ]
  },
  {
   "cell_type": "code",
   "execution_count": null,
   "metadata": {},
   "outputs": [],
   "source": [
    "edges = scharr(filtered_image)"
   ]
  },
  {
   "cell_type": "code",
   "execution_count": null,
   "metadata": {},
   "outputs": [],
   "source": [
    "viewer = Viewer()\n",
    "viewer.add_image(transformed, scale=spacing)\n",
    "viewer.add_image(edges, scale=spacing)\n",
    "viewer.add_points(\n",
    "    maxima,\n",
    "    name=\"points\",\n",
    "    scale=spacing,\n",
    "    size=40,\n",
    "    n_dimensional=True,  # points have 3D \"extent\"\n",
    "    face_color=\"red\",\n",
    ")"
   ]
  },
  {
   "cell_type": "code",
   "execution_count": null,
   "metadata": {},
   "outputs": [],
   "source": [
    "markers = np.zeros(img.shape, dtype=np.uint32)\n",
    "marker_indices = tuple(np.round(maxima).astype(int).T)\n",
    "markers[marker_indices] = np.arange(len(maxima)) + 1\n",
    "markers = dilation(markers, ball(5))\n",
    "\n",
    "segmented = watershed(\n",
    "    -transformed,\n",
    "    markers,\n",
    "    mask=nuclei,\n",
    ")"
   ]
  },
  {
   "cell_type": "code",
   "execution_count": null,
   "metadata": {},
   "outputs": [],
   "source": [
    "viewer = Viewer()\n",
    "viewer.add_image(img, scale=spacing)\n",
    "viewer.add_labels(segmented, scale=spacing)"
   ]
  },
  {
   "cell_type": "markdown",
   "metadata": {},
   "source": [
    "It's not the best and should be improved, but it's not that bad."
   ]
  }
 ],
 "metadata": {
  "kernelspec": {
   "display_name": "Python 3",
   "language": "python",
   "name": "python3"
  },
  "language_info": {
   "codemirror_mode": {
    "name": "ipython",
    "version": 3
   },
   "file_extension": ".py",
   "mimetype": "text/x-python",
   "name": "python",
   "nbconvert_exporter": "python",
   "pygments_lexer": "ipython3",
   "version": "3.12.4"
  }
 },
 "nbformat": 4,
 "nbformat_minor": 2
}
