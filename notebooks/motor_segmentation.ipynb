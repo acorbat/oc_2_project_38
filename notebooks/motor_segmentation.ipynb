{
 "cells": [
  {
   "cell_type": "markdown",
   "metadata": {},
   "source": [
    "# Motor Neuron Segmentation\n",
    "\n",
    "Motor neuron nuclei are labelled with antibodies against ISL1 and they are actually the cells of interest.\n",
    "Although it would be nice to segment all nuclei, the primary objectivo is to find the motor neurons.\n",
    "\n",
    "Let's select an image and then crop out a small piece of it to make testing easier."
   ]
  },
  {
   "cell_type": "code",
   "execution_count": 1,
   "metadata": {},
   "outputs": [],
   "source": [
    "from pathlib import Path\n",
    "\n",
    "import numpy as np\n",
    "from czifile import CziFile\n",
    "from napari import Viewer\n",
    "from scipy.ndimage import distance_transform_edt"
   ]
  },
  {
   "cell_type": "code",
   "execution_count": 2,
   "metadata": {},
   "outputs": [],
   "source": [
    "DATA_DIR = Path(\"../data/NS#1_Healhty-DAPI, WGA, ISL1, G3BP.czi\")\n",
    "image_handle = CziFile(DATA_DIR)\n",
    "img = np.squeeze(image_handle.asarray())[2, :, 1000:1500, 1000:1500]"
   ]
  },
  {
   "cell_type": "code",
   "execution_count": 3,
   "metadata": {},
   "outputs": [],
   "source": [
    "scale = {\n",
    "    values_dict[\"Id\"]: values_dict[\"Value\"] * 10**6\n",
    "    for values_dict in image_handle.metadata(raw=False)[\"ImageDocument\"][\"Metadata\"][\n",
    "        \"Scaling\"\n",
    "    ][\"Items\"][\"Distance\"]\n",
    "}\n",
    "spacing = (scale[\"Z\"], scale[\"Y\"], scale[\"X\"])"
   ]
  },
  {
   "cell_type": "markdown",
   "metadata": {},
   "source": [
    "## Histogram Equalization\n",
    "\n",
    "We should first try some histogram equalization as the intensity values ar every different across planes.\n",
    "I am not sure this will solve some of the saturation problems though."
   ]
  },
  {
   "cell_type": "code",
   "execution_count": 4,
   "metadata": {},
   "outputs": [],
   "source": [
    "from skimage.exposure import equalize_adapthist  # noqa"
   ]
  },
  {
   "cell_type": "code",
   "execution_count": 9,
   "metadata": {},
   "outputs": [],
   "source": [
    "kernel = (50 / scale[\"Z\"], 50 / scale[\"Y\"], 50 / scale[\"X\"])\n",
    "\n",
    "equalized_img = equalize_adapthist(\n",
    "    img,\n",
    "    kernel_size=kernel,\n",
    "    clip_limit=0.001,\n",
    ")"
   ]
  },
  {
   "cell_type": "code",
   "execution_count": 10,
   "metadata": {},
   "outputs": [
    {
     "data": {
      "text/plain": [
       "<Image layer 'equalized_img' at 0x7041ffcfaea0>"
      ]
     },
     "execution_count": 10,
     "metadata": {},
     "output_type": "execute_result"
    }
   ],
   "source": [
    "viewer = Viewer()\n",
    "viewer.add_image(img, scale=spacing, visible=False)\n",
    "viewer.add_image(equalized_img, scale=spacing, visible=True)"
   ]
  },
  {
   "cell_type": "markdown",
   "metadata": {},
   "source": [
    "## Cellpose\n",
    "\n",
    "Let's begin by trying out cellpose."
   ]
  },
  {
   "cell_type": "code",
   "execution_count": 11,
   "metadata": {},
   "outputs": [
    {
     "name": "stdout",
     "output_type": "stream",
     "text": [
      "2024-07-01 13:39:24,622 [INFO] WRITING LOG OUTPUT TO /home/biif/.cellpose/run.log\n",
      "2024-07-01 13:39:24,637 [INFO] \n",
      "cellpose version: \t3.0.10 \n",
      "platform:       \tlinux \n",
      "python version: \t3.12.4 \n",
      "torch version:  \t2.3.1+cu121\n"
     ]
    },
    {
     "data": {
      "text/plain": [
       "(<Logger cellpose.io (INFO)>, PosixPath('/home/biif/.cellpose/run.log'))"
      ]
     },
     "execution_count": 11,
     "metadata": {},
     "output_type": "execute_result"
    }
   ],
   "source": [
    "from cellpose import models  # noqa\n",
    "from cellpose.io import logger_setup  # noqa\n",
    "from skimage.morphology import remove_small_objects  # noqa\n",
    "\n",
    "logger_setup()"
   ]
  },
  {
   "cell_type": "code",
   "execution_count": 12,
   "metadata": {},
   "outputs": [
    {
     "name": "stdout",
     "output_type": "stream",
     "text": [
      "2024-07-01 13:39:24,651 [INFO] >>>> using CPU\n",
      "2024-07-01 13:39:24,653 [INFO] >> cyto3 << model set to be used\n",
      "2024-07-01 13:39:24,781 [INFO] >>>> loading model /home/biif/.cellpose/models/cyto3\n",
      "2024-07-01 13:39:24,922 [INFO] >>>> model diam_mean =  30.000 (ROIs rescaled to this size during training)\n"
     ]
    }
   ],
   "source": [
    "model = models.Cellpose(model_type=\"cyto3\")"
   ]
  },
  {
   "cell_type": "markdown",
   "metadata": {},
   "source": [
    "Estimate anisotropy: Z to X ratio"
   ]
  },
  {
   "cell_type": "code",
   "execution_count": 13,
   "metadata": {},
   "outputs": [
    {
     "name": "stdout",
     "output_type": "stream",
     "text": [
      "5.505521313330107\n"
     ]
    }
   ],
   "source": [
    "anisotropy = scale[\"Z\"] / scale[\"X\"]\n",
    "print(anisotropy)"
   ]
  },
  {
   "cell_type": "code",
   "execution_count": 14,
   "metadata": {},
   "outputs": [
    {
     "name": "stdout",
     "output_type": "stream",
     "text": [
      "80.96354872544275\n"
     ]
    }
   ],
   "source": [
    "diameter = 10 / scale[\"X\"]\n",
    "print(diameter)"
   ]
  },
  {
   "cell_type": "markdown",
   "metadata": {},
   "source": [
    "Estimated diameter of a cell is 8 to 14 $\\mu$m."
   ]
  },
  {
   "cell_type": "code",
   "execution_count": 15,
   "metadata": {},
   "outputs": [
    {
     "name": "stdout",
     "output_type": "stream",
     "text": [
      "2024-07-01 13:39:25,077 [INFO] channels set to [0, 0]\n",
      "2024-07-01 13:39:25,079 [INFO] ~~~ FINDING MASKS ~~~\n",
      "2024-07-01 13:39:25,080 [INFO] multi-stack tiff read in as having 110 planes 1 channels\n",
      "2024-07-01 13:39:26,821 [INFO] running YX: 110 planes of size (500, 500)\n",
      "2024-07-01 13:39:26,844 [INFO] 0%|          | 0/4 [00:00<?, ?it/s]\n",
      "2024-07-01 13:39:37,075 [INFO] 25%|##5       | 1/4 [00:10<00:30, 10.23s/it]\n",
      "2024-07-01 13:39:46,950 [INFO] 50%|#####     | 2/4 [00:20<00:20, 10.02s/it]\n",
      "2024-07-01 13:39:54,753 [INFO] 75%|#######5  | 3/4 [00:27<00:09,  9.01s/it]\n",
      "2024-07-01 13:40:02,381 [INFO] 100%|##########| 4/4 [00:35<00:00,  8.46s/it]\n",
      "2024-07-01 13:40:02,382 [INFO] 100%|##########| 4/4 [00:35<00:00,  8.88s/it]\n",
      "2024-07-01 13:40:03,376 [INFO] running ZY: 500 planes of size (110, 500)\n",
      "2024-07-01 13:40:03,478 [INFO] 0%|          | 0/32 [00:00<?, ?it/s]\n",
      "2024-07-01 13:40:11,938 [INFO] 3%|3         | 1/32 [00:08<04:22,  8.46s/it]\n",
      "2024-07-01 13:40:21,000 [INFO] 6%|6         | 2/32 [00:17<04:24,  8.81s/it]\n",
      "2024-07-01 13:40:30,146 [INFO] 9%|9         | 3/32 [00:26<04:20,  8.97s/it]\n",
      "2024-07-01 13:40:39,083 [INFO] 12%|#2        | 4/32 [00:35<04:10,  8.95s/it]\n",
      "2024-07-01 13:40:48,460 [INFO] 16%|#5        | 5/32 [00:44<04:05,  9.11s/it]\n",
      "2024-07-01 13:40:56,688 [INFO] 19%|#8        | 6/32 [00:53<03:49,  8.81s/it]\n",
      "2024-07-01 13:41:04,864 [INFO] 22%|##1       | 7/32 [01:01<03:35,  8.60s/it]\n",
      "2024-07-01 13:41:13,951 [INFO] 25%|##5       | 8/32 [01:10<03:30,  8.76s/it]\n",
      "2024-07-01 13:41:22,368 [INFO] 28%|##8       | 9/32 [01:18<03:18,  8.65s/it]\n",
      "2024-07-01 13:41:30,641 [INFO] 31%|###1      | 10/32 [01:27<03:07,  8.53s/it]\n",
      "2024-07-01 13:41:38,678 [INFO] 34%|###4      | 11/32 [01:35<02:56,  8.38s/it]\n",
      "2024-07-01 13:41:47,570 [INFO] 38%|###7      | 12/32 [01:44<02:50,  8.54s/it]\n",
      "2024-07-01 13:41:57,724 [INFO] 41%|####      | 13/32 [01:54<02:51,  9.03s/it]\n",
      "2024-07-01 13:42:10,121 [INFO] 44%|####3     | 14/32 [02:06<03:00, 10.04s/it]\n",
      "2024-07-01 13:42:21,339 [INFO] 47%|####6     | 15/32 [02:17<02:56, 10.40s/it]\n",
      "2024-07-01 13:42:30,351 [INFO] 50%|#####     | 16/32 [02:26<02:39,  9.98s/it]\n",
      "2024-07-01 13:42:39,236 [INFO] 53%|#####3    | 17/32 [02:35<02:24,  9.65s/it]\n",
      "2024-07-01 13:42:47,432 [INFO] 56%|#####6    | 18/32 [02:43<02:08,  9.21s/it]\n",
      "2024-07-01 13:42:57,678 [INFO] 59%|#####9    | 19/32 [02:54<02:03,  9.52s/it]\n",
      "2024-07-01 13:43:07,191 [INFO] 62%|######2   | 20/32 [03:03<01:54,  9.52s/it]\n",
      "2024-07-01 13:43:14,947 [INFO] 66%|######5   | 21/32 [03:11<01:38,  8.99s/it]\n",
      "2024-07-01 13:43:22,799 [INFO] 69%|######8   | 22/32 [03:19<01:26,  8.65s/it]\n",
      "2024-07-01 13:43:31,089 [INFO] 72%|#######1  | 23/32 [03:27<01:16,  8.54s/it]\n",
      "2024-07-01 13:43:38,893 [INFO] 75%|#######5  | 24/32 [03:35<01:06,  8.32s/it]\n",
      "2024-07-01 13:43:47,096 [INFO] 78%|#######8  | 25/32 [03:43<00:57,  8.29s/it]\n",
      "2024-07-01 13:43:55,062 [INFO] 81%|########1 | 26/32 [03:51<00:49,  8.19s/it]\n",
      "2024-07-01 13:44:02,893 [INFO] 84%|########4 | 27/32 [03:59<00:40,  8.08s/it]\n",
      "2024-07-01 13:44:10,843 [INFO] 88%|########7 | 28/32 [04:07<00:32,  8.04s/it]\n",
      "2024-07-01 13:44:18,833 [INFO] 91%|######### | 29/32 [04:15<00:24,  8.03s/it]\n",
      "2024-07-01 13:44:26,857 [INFO] 94%|#########3| 30/32 [04:23<00:16,  8.03s/it]\n",
      "2024-07-01 13:44:34,727 [INFO] 97%|#########6| 31/32 [04:31<00:07,  7.98s/it]\n",
      "2024-07-01 13:44:43,460 [INFO] 100%|##########| 32/32 [04:39<00:00,  8.21s/it]\n",
      "2024-07-01 13:44:43,460 [INFO] 100%|##########| 32/32 [04:39<00:00,  8.75s/it]\n",
      "2024-07-01 13:44:45,581 [INFO] running ZX: 500 planes of size (110, 500)\n",
      "2024-07-01 13:44:45,663 [INFO] 0%|          | 0/32 [00:00<?, ?it/s]\n",
      "2024-07-01 13:44:53,941 [INFO] 3%|3         | 1/32 [00:08<04:16,  8.28s/it]\n",
      "2024-07-01 13:45:01,660 [INFO] 6%|6         | 2/32 [00:15<03:58,  7.95s/it]\n",
      "2024-07-01 13:45:10,200 [INFO] 9%|9         | 3/32 [00:24<03:58,  8.22s/it]\n",
      "2024-07-01 13:45:22,688 [INFO] 12%|#2        | 4/32 [00:37<04:37,  9.90s/it]\n",
      "2024-07-01 13:45:36,516 [INFO] 16%|#5        | 5/32 [00:50<05:05, 11.32s/it]\n",
      "2024-07-01 13:45:49,780 [INFO] 19%|#8        | 6/32 [01:04<05:11, 11.98s/it]\n",
      "2024-07-01 13:46:02,860 [INFO] 22%|##1       | 7/32 [01:17<05:08, 12.34s/it]\n",
      "2024-07-01 13:46:16,952 [INFO] 25%|##5       | 8/32 [01:31<05:09, 12.90s/it]\n",
      "2024-07-01 13:46:31,104 [INFO] 28%|##8       | 9/32 [01:45<05:05, 13.29s/it]\n",
      "2024-07-01 13:46:45,577 [INFO] 31%|###1      | 10/32 [01:59<05:00, 13.66s/it]\n",
      "2024-07-01 13:46:57,962 [INFO] 34%|###4      | 11/32 [02:12<04:38, 13.27s/it]\n",
      "2024-07-01 13:47:06,338 [INFO] 38%|###7      | 12/32 [02:20<03:55, 11.78s/it]\n",
      "2024-07-01 13:47:14,712 [INFO] 41%|####      | 13/32 [02:29<03:24, 10.75s/it]\n",
      "2024-07-01 13:47:23,038 [INFO] 44%|####3     | 14/32 [02:37<03:00, 10.02s/it]\n",
      "2024-07-01 13:47:31,006 [INFO] 47%|####6     | 15/32 [02:45<02:39,  9.40s/it]\n",
      "2024-07-01 13:47:40,021 [INFO] 50%|#####     | 16/32 [02:54<02:28,  9.28s/it]\n",
      "2024-07-01 13:47:48,327 [INFO] 53%|#####3    | 17/32 [03:02<02:14,  8.99s/it]\n",
      "2024-07-01 13:47:56,553 [INFO] 56%|#####6    | 18/32 [03:10<02:02,  8.76s/it]\n",
      "2024-07-01 13:48:04,755 [INFO] 59%|#####9    | 19/32 [03:19<01:51,  8.59s/it]\n",
      "2024-07-01 13:48:12,772 [INFO] 62%|######2   | 20/32 [03:27<01:41,  8.42s/it]\n",
      "2024-07-01 13:48:21,301 [INFO] 66%|######5   | 21/32 [03:35<01:32,  8.45s/it]\n",
      "2024-07-01 13:48:29,412 [INFO] 69%|######8   | 22/32 [03:43<01:23,  8.35s/it]\n",
      "2024-07-01 13:48:41,954 [INFO] 72%|#######1  | 23/32 [03:56<01:26,  9.61s/it]\n",
      "2024-07-01 13:48:53,140 [INFO] 75%|#######5  | 24/32 [04:07<01:20, 10.08s/it]\n",
      "2024-07-01 13:49:01,426 [INFO] 78%|#######8  | 25/32 [04:15<01:06,  9.54s/it]\n",
      "2024-07-01 13:49:09,978 [INFO] 81%|########1 | 26/32 [04:24<00:55,  9.25s/it]\n",
      "2024-07-01 13:49:18,812 [INFO] 84%|########4 | 27/32 [04:33<00:45,  9.12s/it]\n",
      "2024-07-01 13:49:27,197 [INFO] 88%|########7 | 28/32 [04:41<00:35,  8.90s/it]\n",
      "2024-07-01 13:49:36,015 [INFO] 91%|######### | 29/32 [04:50<00:26,  8.88s/it]\n",
      "2024-07-01 13:49:46,788 [INFO] 94%|#########3| 30/32 [05:01<00:18,  9.45s/it]\n",
      "2024-07-01 13:49:56,360 [INFO] 97%|#########6| 31/32 [05:10<00:09,  9.48s/it]\n",
      "2024-07-01 13:50:04,441 [INFO] 100%|##########| 32/32 [05:18<00:00,  9.06s/it]\n",
      "2024-07-01 13:50:04,442 [INFO] 100%|##########| 32/32 [05:18<00:00,  9.96s/it]\n",
      "2024-07-01 13:50:06,018 [INFO] network run in 640.75s\n",
      "2024-07-01 13:50:46,119 [INFO] masks created in 40.10s\n",
      "2024-07-01 13:50:48,202 [INFO] >>>> TOTAL TIME 683.13 sec\n"
     ]
    }
   ],
   "source": [
    "masks, flows, styles, diams = model.eval(\n",
    "    [img],\n",
    "    batch_size=8,\n",
    "    diameter=diameter,\n",
    "    z_axis=0,\n",
    "    do_3D=True,\n",
    "    channels=[0, 0],\n",
    "    # stitch_threshold=0.5,\n",
    "    normalize=True,\n",
    "    anisotropy=anisotropy,\n",
    "    # flow_threshold=2,\n",
    "    compute_masks=True,\n",
    ")"
   ]
  },
  {
   "cell_type": "code",
   "execution_count": 16,
   "metadata": {},
   "outputs": [
    {
     "data": {
      "text/plain": [
       "<Labels layer 'Labels' at 0x7041c075a6f0>"
      ]
     },
     "execution_count": 16,
     "metadata": {},
     "output_type": "execute_result"
    }
   ],
   "source": [
    "viewer = Viewer()\n",
    "viewer.add_image(img, scale=spacing)\n",
    "viewer.add_labels(masks[0], scale=spacing)"
   ]
  },
  {
   "cell_type": "markdown",
   "metadata": {},
   "source": [
    "These parameters seem to have worked better.\n",
    "Masks are quite noisy."
   ]
  },
  {
   "cell_type": "code",
   "execution_count": null,
   "metadata": {},
   "outputs": [],
   "source": [
    "label = remove_small_objects(masks[0], 200)"
   ]
  },
  {
   "cell_type": "code",
   "execution_count": null,
   "metadata": {},
   "outputs": [],
   "source": [
    "viewer = Viewer()\n",
    "viewer.add_image(img, scale=spacing)\n",
    "viewer.add_labels(label, scale=spacing)"
   ]
  },
  {
   "cell_type": "markdown",
   "metadata": {},
   "source": [
    "## StarDist\n",
    "\n",
    "Maybe stardist might work.\n",
    "Not tested yet."
   ]
  },
  {
   "cell_type": "markdown",
   "metadata": {},
   "source": [
    "## Clesperanto Voronoi Otsu\n",
    "\n",
    "Maybe Clesperanto's Voronoi and Otsu labelling works well here."
   ]
  },
  {
   "cell_type": "code",
   "execution_count": null,
   "metadata": {},
   "outputs": [],
   "source": [
    "import pyclesperanto_prototype as cle  # noqa\n",
    "\n",
    "cle.available_device_names()"
   ]
  },
  {
   "cell_type": "code",
   "execution_count": null,
   "metadata": {},
   "outputs": [],
   "source": [
    "input_gpu = cle.push(img[3])\n",
    "input_gpu"
   ]
  },
  {
   "cell_type": "markdown",
   "metadata": {},
   "source": [
    "I was unable to make clesperanto work on the laptop."
   ]
  },
  {
   "cell_type": "markdown",
   "metadata": {},
   "source": [
    "## Thresholding\n",
    "\n",
    "Let's go for typical thresholding techniques as nuclei might be separated enough to not need watershed or maybe a simple watershed."
   ]
  },
  {
   "cell_type": "code",
   "execution_count": null,
   "metadata": {},
   "outputs": [],
   "source": [
    "from skimage.feature import peak_local_max  # noqa\n",
    "from skimage.filters import (  # noqa\n",
    "    median,\n",
    "    scharr,\n",
    "    threshold_otsu,\n",
    "    try_all_threshold,\n",
    ")\n",
    "from skimage.morphology import ball, binary_erosion, dilation, disk  # noqa\n",
    "from skimage.segmentation import watershed  # noqa"
   ]
  },
  {
   "cell_type": "markdown",
   "metadata": {},
   "source": [
    "Let's begin with some median filtering to enhance a bit the edges.\n",
    "I'm using my own footprint.\n",
    "\n",
    "And then use Otsu thresolding."
   ]
  },
  {
   "cell_type": "code",
   "execution_count": null,
   "metadata": {},
   "outputs": [],
   "source": [
    "pixel_resolution = 0.5 / scale[\"X\"]\n",
    "\n",
    "footprint = np.stack(\n",
    "    [\n",
    "        np.zeros_like(disk(pixel_resolution)),\n",
    "        disk(pixel_resolution),\n",
    "        np.zeros_like(disk(pixel_resolution)),\n",
    "    ]\n",
    ")\n",
    "midpoint = footprint.shape[1] // 2\n",
    "footprint[0, midpoint, midpoint] = 1\n",
    "footprint[2, midpoint, midpoint] = 1\n",
    "\n",
    "filtered_image = median(img, footprint=footprint)\n",
    "# filtered_image = gaussian(img, sigma=(0.8, 2, 2))\n",
    "threshold = threshold_otsu(filtered_image)\n",
    "nuclei = filtered_image > threshold"
   ]
  },
  {
   "cell_type": "code",
   "execution_count": null,
   "metadata": {},
   "outputs": [],
   "source": [
    "try_all_threshold(img[10])"
   ]
  },
  {
   "cell_type": "code",
   "execution_count": null,
   "metadata": {},
   "outputs": [],
   "source": [
    "viewer = Viewer()\n",
    "viewer.add_image(img, scale=spacing)\n",
    "viewer.add_image(filtered_image, scale=spacing, visible=False)\n",
    "viewer.add_labels(nuclei, scale=spacing)"
   ]
  },
  {
   "cell_type": "markdown",
   "metadata": {},
   "source": [
    "Let's apply watershed to get a better separation between nuclei.\n",
    "We will need the seeds."
   ]
  },
  {
   "cell_type": "code",
   "execution_count": null,
   "metadata": {},
   "outputs": [],
   "source": [
    "footprint = np.stack([np.zeros_like(disk(1)), disk(1), np.zeros_like(disk(1))])\n",
    "\n",
    "inter = binary_erosion(nuclei, footprint=footprint)\n",
    "\n",
    "transformed = distance_transform_edt(inter, sampling=spacing)\n",
    "\n",
    "distance_between_nuclei = 1.7  # in um\n",
    "pixel_min_distance = np.floor(distance_between_nuclei / scale[\"X\"]).astype(int)\n",
    "\n",
    "maxima = peak_local_max(transformed, min_distance=pixel_min_distance)"
   ]
  },
  {
   "cell_type": "code",
   "execution_count": null,
   "metadata": {},
   "outputs": [],
   "source": [
    "print(pixel_min_distance, len(maxima))"
   ]
  },
  {
   "cell_type": "markdown",
   "metadata": {},
   "source": [
    "We need an image for the edges of the nuclei to limit the watershed."
   ]
  },
  {
   "cell_type": "code",
   "execution_count": null,
   "metadata": {},
   "outputs": [],
   "source": [
    "edges = scharr(filtered_image)"
   ]
  },
  {
   "cell_type": "code",
   "execution_count": null,
   "metadata": {},
   "outputs": [],
   "source": [
    "viewer = Viewer()\n",
    "viewer.add_image(transformed, scale=spacing)\n",
    "viewer.add_image(edges, scale=spacing)\n",
    "viewer.add_points(\n",
    "    maxima,\n",
    "    name=\"points\",\n",
    "    scale=spacing,\n",
    "    size=40,\n",
    "    n_dimensional=True,  # points have 3D \"extent\"\n",
    "    face_color=\"red\",\n",
    ")"
   ]
  },
  {
   "cell_type": "code",
   "execution_count": null,
   "metadata": {},
   "outputs": [],
   "source": [
    "markers = np.zeros(img.shape, dtype=np.uint32)\n",
    "marker_indices = tuple(np.round(maxima).astype(int).T)\n",
    "markers[marker_indices] = np.arange(len(maxima)) + 1\n",
    "markers = dilation(markers, ball(5))\n",
    "\n",
    "segmented = watershed(\n",
    "    -transformed,\n",
    "    markers,\n",
    "    mask=nuclei,\n",
    ")"
   ]
  },
  {
   "cell_type": "code",
   "execution_count": null,
   "metadata": {},
   "outputs": [],
   "source": [
    "viewer = Viewer()\n",
    "viewer.add_image(img, scale=spacing)\n",
    "viewer.add_labels(segmented, scale=spacing)"
   ]
  },
  {
   "cell_type": "markdown",
   "metadata": {},
   "source": [
    "It's not the best and should be improved, but it's not that bad."
   ]
  }
 ],
 "metadata": {
  "kernelspec": {
   "display_name": "Python 3",
   "language": "python",
   "name": "python3"
  },
  "language_info": {
   "codemirror_mode": {
    "name": "ipython",
    "version": 3
   },
   "file_extension": ".py",
   "mimetype": "text/x-python",
   "name": "python",
   "nbconvert_exporter": "python",
   "pygments_lexer": "ipython3",
   "version": "3.12.4"
  }
 },
 "nbformat": 4,
 "nbformat_minor": 2
}
