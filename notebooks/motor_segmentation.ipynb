{
 "cells": [
  {
   "cell_type": "markdown",
   "metadata": {},
   "source": [
    "# Motor Neuron Segmentation\n",
    "\n",
    "Motor neuron nuclei are labelled with antibodies against ISL1 and they are actually the cells of interest.\n",
    "Although it would be nice to segment all nuclei, the primary objectivo is to find the motor neurons.\n",
    "\n",
    "Let's select an image and then crop out a small piece of it to make testing easier."
   ]
  },
  {
   "cell_type": "code",
   "execution_count": null,
   "metadata": {},
   "outputs": [],
   "source": [
    "from pathlib import Path\n",
    "\n",
    "import matplotlib.pyplot as plt\n",
    "import numpy as np\n",
    "from czifile import CziFile\n",
    "from napari import Viewer\n",
    "from scipy.ndimage import distance_transform_edt"
   ]
  },
  {
   "cell_type": "code",
   "execution_count": null,
   "metadata": {},
   "outputs": [],
   "source": [
    "DATA_DIR = Path(\"../data/NS#1_Healhty-DAPI, WGA, ISL1, G3BP.czi\")\n",
    "image_handle = CziFile(DATA_DIR)\n",
    "img = np.squeeze(image_handle.asarray())[2, :, 1000:1500, 1000:1500]"
   ]
  },
  {
   "cell_type": "code",
   "execution_count": null,
   "metadata": {},
   "outputs": [],
   "source": [
    "scale = {\n",
    "    values_dict[\"Id\"]: values_dict[\"Value\"] * 10**6\n",
    "    for values_dict in image_handle.metadata(raw=False)[\"ImageDocument\"][\"Metadata\"][\n",
    "        \"Scaling\"\n",
    "    ][\"Items\"][\"Distance\"]\n",
    "}\n",
    "spacing = (scale[\"Z\"], scale[\"Y\"], scale[\"X\"])"
   ]
  },
  {
   "cell_type": "markdown",
   "metadata": {},
   "source": [
    "## Cellpose\n",
    "\n",
    "Let's begin by trying out cellpose."
   ]
  },
  {
   "cell_type": "code",
   "execution_count": null,
   "metadata": {},
   "outputs": [],
   "source": [
    "from cellpose import models  # noqa\n",
    "from cellpose.io import logger_setup  # noqa\n",
    "from skimage.morphology import remove_small_objects  # noqa\n",
    "\n",
    "logger_setup()"
   ]
  },
  {
   "cell_type": "code",
   "execution_count": null,
   "metadata": {},
   "outputs": [],
   "source": [
    "model = models.Cellpose(model_type=\"cyto3\")"
   ]
  },
  {
   "cell_type": "markdown",
   "metadata": {},
   "source": [
    "Estimate anisotropy: Z to X ratio"
   ]
  },
  {
   "cell_type": "code",
   "execution_count": null,
   "metadata": {},
   "outputs": [],
   "source": [
    "anisotropy = scale[\"Z\"] / scale[\"X\"]\n",
    "print(anisotropy)"
   ]
  },
  {
   "cell_type": "code",
   "execution_count": null,
   "metadata": {},
   "outputs": [],
   "source": [
    "diameter = 10 / scale[\"X\"]\n",
    "print(diameter)"
   ]
  },
  {
   "cell_type": "markdown",
   "metadata": {},
   "source": [
    "Estimated diameter of a cell is 8 to 14 $\\mu$m."
   ]
  },
  {
   "cell_type": "code",
   "execution_count": null,
   "metadata": {},
   "outputs": [],
   "source": [
    "masks, flows, styles, diams = model.eval(\n",
    "    [img],\n",
    "    batch_size=8,\n",
    "    diameter=diameter,\n",
    "    z_axis=0,\n",
    "    do_3D=True,\n",
    "    channels=[0, 0],\n",
    "    # stitch_threshold=0.5,\n",
    "    normalize=True,\n",
    "    anisotropy=anisotropy,\n",
    "    # flow_threshold=2,\n",
    "    compute_masks=True,\n",
    ")"
   ]
  },
  {
   "cell_type": "code",
   "execution_count": null,
   "metadata": {},
   "outputs": [],
   "source": [
    "z = 10\n",
    "\n",
    "plt.imshow(img[z])\n",
    "plt.colorbar()\n",
    "plt.show()\n",
    "plt.imshow(masks[0][z])"
   ]
  },
  {
   "cell_type": "code",
   "execution_count": null,
   "metadata": {},
   "outputs": [],
   "source": [
    "viewer = Viewer()\n",
    "viewer.add_image(img, scale=spacing)\n",
    "viewer.add_labels(masks[0], scale=spacing)"
   ]
  },
  {
   "cell_type": "markdown",
   "metadata": {},
   "source": [
    "These parameters seem to have worked better.\n",
    "Masks are quite noisy."
   ]
  },
  {
   "cell_type": "code",
   "execution_count": null,
   "metadata": {},
   "outputs": [],
   "source": [
    "label = remove_small_objects(masks[0], 200)"
   ]
  },
  {
   "cell_type": "code",
   "execution_count": null,
   "metadata": {},
   "outputs": [],
   "source": [
    "viewer = Viewer()\n",
    "viewer.add_image(img, scale=spacing)\n",
    "viewer.add_labels(label, scale=spacing)"
   ]
  },
  {
   "cell_type": "markdown",
   "metadata": {},
   "source": [
    "## StarDist\n",
    "\n",
    "Maybe stardist might work.\n",
    "Not tested yet."
   ]
  },
  {
   "cell_type": "markdown",
   "metadata": {},
   "source": [
    "## Clesperanto Voronoi Otsu\n",
    "\n",
    "Maybe Clesperanto's Voronoi and Otsu labelling works well here."
   ]
  },
  {
   "cell_type": "code",
   "execution_count": null,
   "metadata": {},
   "outputs": [],
   "source": [
    "import pyclesperanto_prototype as cle  # noqa\n",
    "\n",
    "cle.available_device_names()"
   ]
  },
  {
   "cell_type": "code",
   "execution_count": null,
   "metadata": {},
   "outputs": [],
   "source": [
    "input_gpu = cle.push(img[3])\n",
    "input_gpu"
   ]
  },
  {
   "cell_type": "markdown",
   "metadata": {},
   "source": [
    "I was unable to make clesperanto work on the laptop."
   ]
  },
  {
   "cell_type": "markdown",
   "metadata": {},
   "source": [
    "## Thresholding\n",
    "\n",
    "Let's go for typical thresholding techniques as nuclei might be separated enough to not need watershed or maybe a simple watershed."
   ]
  },
  {
   "cell_type": "code",
   "execution_count": null,
   "metadata": {},
   "outputs": [],
   "source": [
    "from skimage.feature import peak_local_max  # noqa\n",
    "from skimage.filters import (  # noqa\n",
    "    median,\n",
    "    scharr,\n",
    "    threshold_otsu,\n",
    "    try_all_threshold,\n",
    ")\n",
    "from skimage.morphology import ball, binary_erosion, dilation, disk  # noqa\n",
    "from skimage.segmentation import watershed  # noqa"
   ]
  },
  {
   "cell_type": "markdown",
   "metadata": {},
   "source": [
    "Let's begin with some median filtering to enhance a bit the edges.\n",
    "I'm using my own footprint.\n",
    "\n",
    "And then use Otsu thresolding."
   ]
  },
  {
   "cell_type": "code",
   "execution_count": null,
   "metadata": {},
   "outputs": [],
   "source": [
    "pixel_resolution = 0.5 / scale[\"X\"]\n",
    "\n",
    "footprint = np.stack(\n",
    "    [\n",
    "        np.zeros_like(disk(pixel_resolution)),\n",
    "        disk(pixel_resolution),\n",
    "        np.zeros_like(disk(pixel_resolution)),\n",
    "    ]\n",
    ")\n",
    "midpoint = footprint.shape[1] // 2\n",
    "footprint[0, midpoint, midpoint] = 1\n",
    "footprint[2, midpoint, midpoint] = 1\n",
    "\n",
    "filtered_image = median(img, footprint=footprint)\n",
    "# filtered_image = gaussian(img, sigma=(0.8, 2, 2))\n",
    "threshold = threshold_otsu(filtered_image)\n",
    "nuclei = filtered_image > threshold"
   ]
  },
  {
   "cell_type": "code",
   "execution_count": null,
   "metadata": {},
   "outputs": [],
   "source": [
    "try_all_threshold(img[10])"
   ]
  },
  {
   "cell_type": "code",
   "execution_count": null,
   "metadata": {},
   "outputs": [],
   "source": [
    "viewer = Viewer()\n",
    "viewer.add_image(img, scale=spacing)\n",
    "viewer.add_image(filtered_image, scale=spacing, visible=False)\n",
    "viewer.add_labels(nuclei, scale=spacing)"
   ]
  },
  {
   "cell_type": "markdown",
   "metadata": {},
   "source": [
    "Let's apply watershed to get a better separation between nuclei.\n",
    "We will need the seeds."
   ]
  },
  {
   "cell_type": "code",
   "execution_count": null,
   "metadata": {},
   "outputs": [],
   "source": [
    "footprint = np.stack([np.zeros_like(disk(1)), disk(1), np.zeros_like(disk(1))])\n",
    "\n",
    "inter = binary_erosion(nuclei, footprint=footprint)\n",
    "\n",
    "transformed = distance_transform_edt(inter, sampling=spacing)\n",
    "\n",
    "distance_between_nuclei = 1.7  # in um\n",
    "pixel_min_distance = np.floor(distance_between_nuclei / scale[\"X\"]).astype(int)\n",
    "\n",
    "maxima = peak_local_max(transformed, min_distance=pixel_min_distance)"
   ]
  },
  {
   "cell_type": "code",
   "execution_count": null,
   "metadata": {},
   "outputs": [],
   "source": [
    "print(pixel_min_distance, len(maxima))"
   ]
  },
  {
   "cell_type": "markdown",
   "metadata": {},
   "source": [
    "We need an image for the edges of the nuclei to limit the watershed."
   ]
  },
  {
   "cell_type": "code",
   "execution_count": null,
   "metadata": {},
   "outputs": [],
   "source": [
    "edges = scharr(filtered_image)"
   ]
  },
  {
   "cell_type": "code",
   "execution_count": null,
   "metadata": {},
   "outputs": [],
   "source": [
    "viewer = Viewer()\n",
    "viewer.add_image(transformed, scale=spacing)\n",
    "viewer.add_image(edges, scale=spacing)\n",
    "viewer.add_points(\n",
    "    maxima,\n",
    "    name=\"points\",\n",
    "    scale=spacing,\n",
    "    size=40,\n",
    "    n_dimensional=True,  # points have 3D \"extent\"\n",
    "    face_color=\"red\",\n",
    ")"
   ]
  },
  {
   "cell_type": "code",
   "execution_count": null,
   "metadata": {},
   "outputs": [],
   "source": [
    "markers = np.zeros(img.shape, dtype=np.uint32)\n",
    "marker_indices = tuple(np.round(maxima).astype(int).T)\n",
    "markers[marker_indices] = np.arange(len(maxima)) + 1\n",
    "markers = dilation(markers, ball(5))\n",
    "\n",
    "segmented = watershed(\n",
    "    -transformed,\n",
    "    markers,\n",
    "    mask=nuclei,\n",
    ")"
   ]
  },
  {
   "cell_type": "code",
   "execution_count": null,
   "metadata": {},
   "outputs": [],
   "source": [
    "viewer = Viewer()\n",
    "viewer.add_image(img, scale=spacing)\n",
    "viewer.add_labels(segmented, scale=spacing)"
   ]
  },
  {
   "cell_type": "markdown",
   "metadata": {},
   "source": [
    "It's not the best and should be improved, but it's not that bad."
   ]
  }
 ],
 "metadata": {
  "kernelspec": {
   "display_name": "Python 3",
   "language": "python",
   "name": "python3"
  },
  "language_info": {
   "codemirror_mode": {
    "name": "ipython",
    "version": 3
   },
   "file_extension": ".py",
   "mimetype": "text/x-python",
   "name": "python",
   "nbconvert_exporter": "python",
   "pygments_lexer": "ipython3",
   "version": "3.12.4"
  }
 },
 "nbformat": 4,
 "nbformat_minor": 2
}
